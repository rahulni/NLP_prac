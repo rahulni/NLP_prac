{
  "cells": [
    {
      "cell_type": "markdown",
      "metadata": {
        "id": "3-M3gcRWtGCK"
      },
      "source": [
        "# Content"
      ]
    },
    {
      "cell_type": "markdown",
      "metadata": {
        "id": "1svLweFFtqZ8"
      },
      "source": [
        "- **Introduction to Business Case: DL Engineer at BBC**\n",
        "- **Dataset EDA**\n",
        "  - Attribute information\n",
        "  - Category distribution plot\n",
        "- **Traditional methods : Why they won't work**\n",
        "  - MLP Classifiers : No temporal components\n",
        "- **Introduction to RNNs**\n",
        "  - Advantages\n",
        "  - RNNs unravelled over time\n",
        "  - Types of RNNs\n",
        "- **RNN Architecture**\n",
        "  - Parameters\n",
        "  - Inputs\n",
        "  - Weight matrices\n",
        "- **Training a Many to One RNN model**\n",
        "  - Forward propagation\n",
        "  - Backpropagation through time\n",
        "  - Gradient clipping\n",
        "- **Expanding training methods to other types of RNNS**\n",
        "  - Multi-output RNNs\n",
        "  - Bidirectional RNNs\n",
        "  \n",
        "- **Code Implementation**\n",
        "  - Text preprocessing\n",
        "    - Text cleaning \n",
        "    - Fixing a sequence length\n",
        "    - splitting the dataset\n",
        "  - Text processing\n",
        "    - OHE labels\n",
        "    - Tokenization & padding\n",
        "  - Training an RNN\n",
        "    - Defining RNN architecture\n",
        "    - Model training\n",
        "    - Making predictions\n",
        "    - Confusion matrix\n",
        "\n",
        "- **Conclusion**"
      ]
    },
    {
      "cell_type": "markdown",
      "metadata": {
        "id": "U-cuPc27Kjbs"
      },
      "source": [
        "# RESEARCH PAPERS\n",
        "1. [A Critical Review of Recurrent Neural Networks\n",
        "for Sequence Learning](https://arxiv.org/pdf/1506.00019.pdf)\n",
        "2. [Fundamentals of Recurrent Neural Network (RNN)\n",
        "and Long Short-Term Memory (LSTM) Network](https://arxiv.org/pdf/1808.03314.pdf)"
      ]
    },
    {
      "cell_type": "markdown",
      "metadata": {
        "id": "81kjo5oi4Y6t"
      },
      "source": [
        "# How to classify a news headline into a relevant category?\n",
        "\n",
        "`You are an DL Engineer at BBC.`"
      ]
    },
    {
      "cell_type": "markdown",
      "metadata": {
        "id": "VcTFQa7k4Y6x"
      },
      "source": [
        "**`Problem Statement`:** BBC wants to auto categorize the news into various categories which will also help in recommending the right news articles to it users at a later stage.\n",
        "\n",
        "\n",
        "`Note:` *BBC - British Broadcasting Corporation*"
      ]
    },
    {
      "cell_type": "markdown",
      "metadata": {
        "id": "K9cMib5i4Y6x"
      },
      "source": [
        "### Dataset\n",
        "\n",
        "A sample of 2225 news article and their relavant category.\n",
        "\n",
        "**Attribute information:**\n",
        "- filename - name of the file for that news.\n",
        "- title - the headline of the news\n",
        "- content - main news content.\n",
        "- **category** - target variable that describes the type of a news item.\n"
      ]
    },
    {
      "cell_type": "code",
      "execution_count": 1,
      "metadata": {
        "id": "2k-xJZXw4Y6y"
      },
      "outputs": [],
      "source": [
        "import pandas as pd\n",
        "import numpy as np\n",
        "from IPython.display import Image\n",
        "from tqdm import tqdm\n",
        "from sklearn.preprocessing import LabelEncoder\n",
        "from sklearn.metrics import confusion_matrix, accuracy_score\n",
        "import re\n",
        "import matplotlib.pyplot as plt"
      ]
    },
    {
      "cell_type": "code",
      "execution_count": 2,
      "metadata": {
        "colab": {
          "base_uri": "https://localhost:8080/"
        },
        "id": "YPCwGuqT_scd",
        "outputId": "785474bf-acab-4c79-b9cd-8328e13dfd98"
      },
      "outputs": [
        {
          "output_type": "stream",
          "name": "stdout",
          "text": [
            "Downloading...\n",
            "From: https://drive.google.com/uc?id=1POmzYEQZgZVqJO3F_cyNcd4QmoNE_mCv\n",
            "To: /content/bbc-news-data.csv\n",
            "\r  0% 0.00/5.08M [00:00<?, ?B/s]\r100% 5.08M/5.08M [00:00<00:00, 254MB/s]\n"
          ]
        }
      ],
      "source": [
        "!gdown 1POmzYEQZgZVqJO3F_cyNcd4QmoNE_mCv"
      ]
    },
    {
      "cell_type": "markdown",
      "metadata": {
        "id": "rfi2O3D04Y6z"
      },
      "source": [
        "---\n",
        "# Reading the dataset\n",
        "---"
      ]
    },
    {
      "cell_type": "code",
      "execution_count": 3,
      "metadata": {
        "colab": {
          "base_uri": "https://localhost:8080/",
          "height": 424
        },
        "id": "9kRl7E6F4Y60",
        "outputId": "8c67cff9-9fbf-480a-d5ca-cac7b6539d29"
      },
      "outputs": [
        {
          "output_type": "execute_result",
          "data": {
            "text/plain": [
              "      category filename                              title  \\\n",
              "0     business  001.txt  Ad sales boost Time Warner profit   \n",
              "1     business  002.txt   Dollar gains on Greenspan speech   \n",
              "2     business  003.txt  Yukos unit buyer faces loan claim   \n",
              "3     business  004.txt  High fuel prices hit BA's profits   \n",
              "4     business  005.txt  Pernod takeover talk lifts Domecq   \n",
              "...        ...      ...                                ...   \n",
              "2220      tech  397.txt   BT program to beat dialler scams   \n",
              "2221      tech  398.txt    Spam e-mails tempt net shoppers   \n",
              "2222      tech  399.txt            Be careful how you code   \n",
              "2223      tech  400.txt    US cyber security chief resigns   \n",
              "2224      tech  401.txt   Losing yourself in online gaming   \n",
              "\n",
              "                                                content  \n",
              "0      Quarterly profits at US media giant TimeWarne...  \n",
              "1      The dollar has hit its highest level against ...  \n",
              "2      The owners of embattled Russian oil giant Yuk...  \n",
              "3      British Airways has blamed high fuel prices f...  \n",
              "4      Shares in UK drinks and food firm Allied Dome...  \n",
              "...                                                 ...  \n",
              "2220   BT is introducing two initiatives to help bea...  \n",
              "2221   Computer users across the world continue to i...  \n",
              "2222   A new European directive could put software w...  \n",
              "2223   The man making sure US computer networks are ...  \n",
              "2224   Online role playing games are time-consuming,...  \n",
              "\n",
              "[2225 rows x 4 columns]"
            ],
            "text/html": [
              "\n",
              "  <div id=\"df-06c72f48-524c-4bd3-9978-d025288e697c\">\n",
              "    <div class=\"colab-df-container\">\n",
              "      <div>\n",
              "<style scoped>\n",
              "    .dataframe tbody tr th:only-of-type {\n",
              "        vertical-align: middle;\n",
              "    }\n",
              "\n",
              "    .dataframe tbody tr th {\n",
              "        vertical-align: top;\n",
              "    }\n",
              "\n",
              "    .dataframe thead th {\n",
              "        text-align: right;\n",
              "    }\n",
              "</style>\n",
              "<table border=\"1\" class=\"dataframe\">\n",
              "  <thead>\n",
              "    <tr style=\"text-align: right;\">\n",
              "      <th></th>\n",
              "      <th>category</th>\n",
              "      <th>filename</th>\n",
              "      <th>title</th>\n",
              "      <th>content</th>\n",
              "    </tr>\n",
              "  </thead>\n",
              "  <tbody>\n",
              "    <tr>\n",
              "      <th>0</th>\n",
              "      <td>business</td>\n",
              "      <td>001.txt</td>\n",
              "      <td>Ad sales boost Time Warner profit</td>\n",
              "      <td>Quarterly profits at US media giant TimeWarne...</td>\n",
              "    </tr>\n",
              "    <tr>\n",
              "      <th>1</th>\n",
              "      <td>business</td>\n",
              "      <td>002.txt</td>\n",
              "      <td>Dollar gains on Greenspan speech</td>\n",
              "      <td>The dollar has hit its highest level against ...</td>\n",
              "    </tr>\n",
              "    <tr>\n",
              "      <th>2</th>\n",
              "      <td>business</td>\n",
              "      <td>003.txt</td>\n",
              "      <td>Yukos unit buyer faces loan claim</td>\n",
              "      <td>The owners of embattled Russian oil giant Yuk...</td>\n",
              "    </tr>\n",
              "    <tr>\n",
              "      <th>3</th>\n",
              "      <td>business</td>\n",
              "      <td>004.txt</td>\n",
              "      <td>High fuel prices hit BA's profits</td>\n",
              "      <td>British Airways has blamed high fuel prices f...</td>\n",
              "    </tr>\n",
              "    <tr>\n",
              "      <th>4</th>\n",
              "      <td>business</td>\n",
              "      <td>005.txt</td>\n",
              "      <td>Pernod takeover talk lifts Domecq</td>\n",
              "      <td>Shares in UK drinks and food firm Allied Dome...</td>\n",
              "    </tr>\n",
              "    <tr>\n",
              "      <th>...</th>\n",
              "      <td>...</td>\n",
              "      <td>...</td>\n",
              "      <td>...</td>\n",
              "      <td>...</td>\n",
              "    </tr>\n",
              "    <tr>\n",
              "      <th>2220</th>\n",
              "      <td>tech</td>\n",
              "      <td>397.txt</td>\n",
              "      <td>BT program to beat dialler scams</td>\n",
              "      <td>BT is introducing two initiatives to help bea...</td>\n",
              "    </tr>\n",
              "    <tr>\n",
              "      <th>2221</th>\n",
              "      <td>tech</td>\n",
              "      <td>398.txt</td>\n",
              "      <td>Spam e-mails tempt net shoppers</td>\n",
              "      <td>Computer users across the world continue to i...</td>\n",
              "    </tr>\n",
              "    <tr>\n",
              "      <th>2222</th>\n",
              "      <td>tech</td>\n",
              "      <td>399.txt</td>\n",
              "      <td>Be careful how you code</td>\n",
              "      <td>A new European directive could put software w...</td>\n",
              "    </tr>\n",
              "    <tr>\n",
              "      <th>2223</th>\n",
              "      <td>tech</td>\n",
              "      <td>400.txt</td>\n",
              "      <td>US cyber security chief resigns</td>\n",
              "      <td>The man making sure US computer networks are ...</td>\n",
              "    </tr>\n",
              "    <tr>\n",
              "      <th>2224</th>\n",
              "      <td>tech</td>\n",
              "      <td>401.txt</td>\n",
              "      <td>Losing yourself in online gaming</td>\n",
              "      <td>Online role playing games are time-consuming,...</td>\n",
              "    </tr>\n",
              "  </tbody>\n",
              "</table>\n",
              "<p>2225 rows × 4 columns</p>\n",
              "</div>\n",
              "      <button class=\"colab-df-convert\" onclick=\"convertToInteractive('df-06c72f48-524c-4bd3-9978-d025288e697c')\"\n",
              "              title=\"Convert this dataframe to an interactive table.\"\n",
              "              style=\"display:none;\">\n",
              "        \n",
              "  <svg xmlns=\"http://www.w3.org/2000/svg\" height=\"24px\"viewBox=\"0 0 24 24\"\n",
              "       width=\"24px\">\n",
              "    <path d=\"M0 0h24v24H0V0z\" fill=\"none\"/>\n",
              "    <path d=\"M18.56 5.44l.94 2.06.94-2.06 2.06-.94-2.06-.94-.94-2.06-.94 2.06-2.06.94zm-11 1L8.5 8.5l.94-2.06 2.06-.94-2.06-.94L8.5 2.5l-.94 2.06-2.06.94zm10 10l.94 2.06.94-2.06 2.06-.94-2.06-.94-.94-2.06-.94 2.06-2.06.94z\"/><path d=\"M17.41 7.96l-1.37-1.37c-.4-.4-.92-.59-1.43-.59-.52 0-1.04.2-1.43.59L10.3 9.45l-7.72 7.72c-.78.78-.78 2.05 0 2.83L4 21.41c.39.39.9.59 1.41.59.51 0 1.02-.2 1.41-.59l7.78-7.78 2.81-2.81c.8-.78.8-2.07 0-2.86zM5.41 20L4 18.59l7.72-7.72 1.47 1.35L5.41 20z\"/>\n",
              "  </svg>\n",
              "      </button>\n",
              "      \n",
              "  <style>\n",
              "    .colab-df-container {\n",
              "      display:flex;\n",
              "      flex-wrap:wrap;\n",
              "      gap: 12px;\n",
              "    }\n",
              "\n",
              "    .colab-df-convert {\n",
              "      background-color: #E8F0FE;\n",
              "      border: none;\n",
              "      border-radius: 50%;\n",
              "      cursor: pointer;\n",
              "      display: none;\n",
              "      fill: #1967D2;\n",
              "      height: 32px;\n",
              "      padding: 0 0 0 0;\n",
              "      width: 32px;\n",
              "    }\n",
              "\n",
              "    .colab-df-convert:hover {\n",
              "      background-color: #E2EBFA;\n",
              "      box-shadow: 0px 1px 2px rgba(60, 64, 67, 0.3), 0px 1px 3px 1px rgba(60, 64, 67, 0.15);\n",
              "      fill: #174EA6;\n",
              "    }\n",
              "\n",
              "    [theme=dark] .colab-df-convert {\n",
              "      background-color: #3B4455;\n",
              "      fill: #D2E3FC;\n",
              "    }\n",
              "\n",
              "    [theme=dark] .colab-df-convert:hover {\n",
              "      background-color: #434B5C;\n",
              "      box-shadow: 0px 1px 3px 1px rgba(0, 0, 0, 0.15);\n",
              "      filter: drop-shadow(0px 1px 2px rgba(0, 0, 0, 0.3));\n",
              "      fill: #FFFFFF;\n",
              "    }\n",
              "  </style>\n",
              "\n",
              "      <script>\n",
              "        const buttonEl =\n",
              "          document.querySelector('#df-06c72f48-524c-4bd3-9978-d025288e697c button.colab-df-convert');\n",
              "        buttonEl.style.display =\n",
              "          google.colab.kernel.accessAllowed ? 'block' : 'none';\n",
              "\n",
              "        async function convertToInteractive(key) {\n",
              "          const element = document.querySelector('#df-06c72f48-524c-4bd3-9978-d025288e697c');\n",
              "          const dataTable =\n",
              "            await google.colab.kernel.invokeFunction('convertToInteractive',\n",
              "                                                     [key], {});\n",
              "          if (!dataTable) return;\n",
              "\n",
              "          const docLinkHtml = 'Like what you see? Visit the ' +\n",
              "            '<a target=\"_blank\" href=https://colab.research.google.com/notebooks/data_table.ipynb>data table notebook</a>'\n",
              "            + ' to learn more about interactive tables.';\n",
              "          element.innerHTML = '';\n",
              "          dataTable['output_type'] = 'display_data';\n",
              "          await google.colab.output.renderOutput(dataTable, element);\n",
              "          const docLink = document.createElement('div');\n",
              "          docLink.innerHTML = docLinkHtml;\n",
              "          element.appendChild(docLink);\n",
              "        }\n",
              "      </script>\n",
              "    </div>\n",
              "  </div>\n",
              "  "
            ]
          },
          "metadata": {},
          "execution_count": 3
        }
      ],
      "source": [
        "df = pd.read_csv(\"/content/bbc-news-data.csv\", sep=\"\\t\")\n",
        "df"
      ]
    },
    {
      "cell_type": "code",
      "execution_count": 4,
      "metadata": {
        "colab": {
          "base_uri": "https://localhost:8080/",
          "height": 458
        },
        "id": "jc2Agj8d4Y61",
        "outputId": "6e217ada-5a1a-4fcd-88fc-682305d2c421"
      },
      "outputs": [
        {
          "output_type": "stream",
          "name": "stdout",
          "text": [
            "(2225, 4)\n",
            "(2225, 4)\n"
          ]
        },
        {
          "output_type": "execute_result",
          "data": {
            "text/plain": [
              "      category filename                              title  \\\n",
              "0     business  001.txt  Ad sales boost Time Warner profit   \n",
              "1     business  002.txt   Dollar gains on Greenspan speech   \n",
              "2     business  003.txt  Yukos unit buyer faces loan claim   \n",
              "3     business  004.txt  High fuel prices hit BA's profits   \n",
              "4     business  005.txt  Pernod takeover talk lifts Domecq   \n",
              "...        ...      ...                                ...   \n",
              "2220      tech  397.txt   BT program to beat dialler scams   \n",
              "2221      tech  398.txt    Spam e-mails tempt net shoppers   \n",
              "2222      tech  399.txt            Be careful how you code   \n",
              "2223      tech  400.txt    US cyber security chief resigns   \n",
              "2224      tech  401.txt   Losing yourself in online gaming   \n",
              "\n",
              "                                                content  \n",
              "0      Quarterly profits at US media giant TimeWarne...  \n",
              "1      The dollar has hit its highest level against ...  \n",
              "2      The owners of embattled Russian oil giant Yuk...  \n",
              "3      British Airways has blamed high fuel prices f...  \n",
              "4      Shares in UK drinks and food firm Allied Dome...  \n",
              "...                                                 ...  \n",
              "2220   BT is introducing two initiatives to help bea...  \n",
              "2221   Computer users across the world continue to i...  \n",
              "2222   A new European directive could put software w...  \n",
              "2223   The man making sure US computer networks are ...  \n",
              "2224   Online role playing games are time-consuming,...  \n",
              "\n",
              "[2225 rows x 4 columns]"
            ],
            "text/html": [
              "\n",
              "  <div id=\"df-dc16d579-6631-428c-b03b-a0f37b8161a1\">\n",
              "    <div class=\"colab-df-container\">\n",
              "      <div>\n",
              "<style scoped>\n",
              "    .dataframe tbody tr th:only-of-type {\n",
              "        vertical-align: middle;\n",
              "    }\n",
              "\n",
              "    .dataframe tbody tr th {\n",
              "        vertical-align: top;\n",
              "    }\n",
              "\n",
              "    .dataframe thead th {\n",
              "        text-align: right;\n",
              "    }\n",
              "</style>\n",
              "<table border=\"1\" class=\"dataframe\">\n",
              "  <thead>\n",
              "    <tr style=\"text-align: right;\">\n",
              "      <th></th>\n",
              "      <th>category</th>\n",
              "      <th>filename</th>\n",
              "      <th>title</th>\n",
              "      <th>content</th>\n",
              "    </tr>\n",
              "  </thead>\n",
              "  <tbody>\n",
              "    <tr>\n",
              "      <th>0</th>\n",
              "      <td>business</td>\n",
              "      <td>001.txt</td>\n",
              "      <td>Ad sales boost Time Warner profit</td>\n",
              "      <td>Quarterly profits at US media giant TimeWarne...</td>\n",
              "    </tr>\n",
              "    <tr>\n",
              "      <th>1</th>\n",
              "      <td>business</td>\n",
              "      <td>002.txt</td>\n",
              "      <td>Dollar gains on Greenspan speech</td>\n",
              "      <td>The dollar has hit its highest level against ...</td>\n",
              "    </tr>\n",
              "    <tr>\n",
              "      <th>2</th>\n",
              "      <td>business</td>\n",
              "      <td>003.txt</td>\n",
              "      <td>Yukos unit buyer faces loan claim</td>\n",
              "      <td>The owners of embattled Russian oil giant Yuk...</td>\n",
              "    </tr>\n",
              "    <tr>\n",
              "      <th>3</th>\n",
              "      <td>business</td>\n",
              "      <td>004.txt</td>\n",
              "      <td>High fuel prices hit BA's profits</td>\n",
              "      <td>British Airways has blamed high fuel prices f...</td>\n",
              "    </tr>\n",
              "    <tr>\n",
              "      <th>4</th>\n",
              "      <td>business</td>\n",
              "      <td>005.txt</td>\n",
              "      <td>Pernod takeover talk lifts Domecq</td>\n",
              "      <td>Shares in UK drinks and food firm Allied Dome...</td>\n",
              "    </tr>\n",
              "    <tr>\n",
              "      <th>...</th>\n",
              "      <td>...</td>\n",
              "      <td>...</td>\n",
              "      <td>...</td>\n",
              "      <td>...</td>\n",
              "    </tr>\n",
              "    <tr>\n",
              "      <th>2220</th>\n",
              "      <td>tech</td>\n",
              "      <td>397.txt</td>\n",
              "      <td>BT program to beat dialler scams</td>\n",
              "      <td>BT is introducing two initiatives to help bea...</td>\n",
              "    </tr>\n",
              "    <tr>\n",
              "      <th>2221</th>\n",
              "      <td>tech</td>\n",
              "      <td>398.txt</td>\n",
              "      <td>Spam e-mails tempt net shoppers</td>\n",
              "      <td>Computer users across the world continue to i...</td>\n",
              "    </tr>\n",
              "    <tr>\n",
              "      <th>2222</th>\n",
              "      <td>tech</td>\n",
              "      <td>399.txt</td>\n",
              "      <td>Be careful how you code</td>\n",
              "      <td>A new European directive could put software w...</td>\n",
              "    </tr>\n",
              "    <tr>\n",
              "      <th>2223</th>\n",
              "      <td>tech</td>\n",
              "      <td>400.txt</td>\n",
              "      <td>US cyber security chief resigns</td>\n",
              "      <td>The man making sure US computer networks are ...</td>\n",
              "    </tr>\n",
              "    <tr>\n",
              "      <th>2224</th>\n",
              "      <td>tech</td>\n",
              "      <td>401.txt</td>\n",
              "      <td>Losing yourself in online gaming</td>\n",
              "      <td>Online role playing games are time-consuming,...</td>\n",
              "    </tr>\n",
              "  </tbody>\n",
              "</table>\n",
              "<p>2225 rows × 4 columns</p>\n",
              "</div>\n",
              "      <button class=\"colab-df-convert\" onclick=\"convertToInteractive('df-dc16d579-6631-428c-b03b-a0f37b8161a1')\"\n",
              "              title=\"Convert this dataframe to an interactive table.\"\n",
              "              style=\"display:none;\">\n",
              "        \n",
              "  <svg xmlns=\"http://www.w3.org/2000/svg\" height=\"24px\"viewBox=\"0 0 24 24\"\n",
              "       width=\"24px\">\n",
              "    <path d=\"M0 0h24v24H0V0z\" fill=\"none\"/>\n",
              "    <path d=\"M18.56 5.44l.94 2.06.94-2.06 2.06-.94-2.06-.94-.94-2.06-.94 2.06-2.06.94zm-11 1L8.5 8.5l.94-2.06 2.06-.94-2.06-.94L8.5 2.5l-.94 2.06-2.06.94zm10 10l.94 2.06.94-2.06 2.06-.94-2.06-.94-.94-2.06-.94 2.06-2.06.94z\"/><path d=\"M17.41 7.96l-1.37-1.37c-.4-.4-.92-.59-1.43-.59-.52 0-1.04.2-1.43.59L10.3 9.45l-7.72 7.72c-.78.78-.78 2.05 0 2.83L4 21.41c.39.39.9.59 1.41.59.51 0 1.02-.2 1.41-.59l7.78-7.78 2.81-2.81c.8-.78.8-2.07 0-2.86zM5.41 20L4 18.59l7.72-7.72 1.47 1.35L5.41 20z\"/>\n",
              "  </svg>\n",
              "      </button>\n",
              "      \n",
              "  <style>\n",
              "    .colab-df-container {\n",
              "      display:flex;\n",
              "      flex-wrap:wrap;\n",
              "      gap: 12px;\n",
              "    }\n",
              "\n",
              "    .colab-df-convert {\n",
              "      background-color: #E8F0FE;\n",
              "      border: none;\n",
              "      border-radius: 50%;\n",
              "      cursor: pointer;\n",
              "      display: none;\n",
              "      fill: #1967D2;\n",
              "      height: 32px;\n",
              "      padding: 0 0 0 0;\n",
              "      width: 32px;\n",
              "    }\n",
              "\n",
              "    .colab-df-convert:hover {\n",
              "      background-color: #E2EBFA;\n",
              "      box-shadow: 0px 1px 2px rgba(60, 64, 67, 0.3), 0px 1px 3px 1px rgba(60, 64, 67, 0.15);\n",
              "      fill: #174EA6;\n",
              "    }\n",
              "\n",
              "    [theme=dark] .colab-df-convert {\n",
              "      background-color: #3B4455;\n",
              "      fill: #D2E3FC;\n",
              "    }\n",
              "\n",
              "    [theme=dark] .colab-df-convert:hover {\n",
              "      background-color: #434B5C;\n",
              "      box-shadow: 0px 1px 3px 1px rgba(0, 0, 0, 0.15);\n",
              "      filter: drop-shadow(0px 1px 2px rgba(0, 0, 0, 0.3));\n",
              "      fill: #FFFFFF;\n",
              "    }\n",
              "  </style>\n",
              "\n",
              "      <script>\n",
              "        const buttonEl =\n",
              "          document.querySelector('#df-dc16d579-6631-428c-b03b-a0f37b8161a1 button.colab-df-convert');\n",
              "        buttonEl.style.display =\n",
              "          google.colab.kernel.accessAllowed ? 'block' : 'none';\n",
              "\n",
              "        async function convertToInteractive(key) {\n",
              "          const element = document.querySelector('#df-dc16d579-6631-428c-b03b-a0f37b8161a1');\n",
              "          const dataTable =\n",
              "            await google.colab.kernel.invokeFunction('convertToInteractive',\n",
              "                                                     [key], {});\n",
              "          if (!dataTable) return;\n",
              "\n",
              "          const docLinkHtml = 'Like what you see? Visit the ' +\n",
              "            '<a target=\"_blank\" href=https://colab.research.google.com/notebooks/data_table.ipynb>data table notebook</a>'\n",
              "            + ' to learn more about interactive tables.';\n",
              "          element.innerHTML = '';\n",
              "          dataTable['output_type'] = 'display_data';\n",
              "          await google.colab.output.renderOutput(dataTable, element);\n",
              "          const docLink = document.createElement('div');\n",
              "          docLink.innerHTML = docLinkHtml;\n",
              "          element.appendChild(docLink);\n",
              "        }\n",
              "      </script>\n",
              "    </div>\n",
              "  </div>\n",
              "  "
            ]
          },
          "metadata": {},
          "execution_count": 4
        }
      ],
      "source": [
        "# Dropping the empty sub-title\n",
        "print(df.shape)\n",
        "df = df[((~df.title.isnull()) & (~df.content.isnull()))].reset_index(drop=True)\n",
        "print(df.shape)\n",
        "\n",
        "df"
      ]
    },
    {
      "cell_type": "code",
      "execution_count": 5,
      "metadata": {
        "colab": {
          "base_uri": "https://localhost:8080/",
          "height": 489
        },
        "id": "mm22APQW4Y61",
        "scrolled": true,
        "outputId": "74f846e1-512f-4420-e93c-864385fd1500"
      },
      "outputs": [
        {
          "output_type": "execute_result",
          "data": {
            "text/plain": [
              "Text(0, 0.5, 'Count')"
            ]
          },
          "metadata": {},
          "execution_count": 5
        },
        {
          "output_type": "display_data",
          "data": {
            "text/plain": [
              "<Figure size 640x480 with 1 Axes>"
            ],
            "image/png": "[encoded data removed]"
          },
          "metadata": {}
        }
      ],
      "source": [
        "plt.bar(df.category.value_counts().index, df.category.value_counts().values)\n",
        "plt.title('Category distribution')\n",
        "plt.xlabel(\"Category\")\n",
        "plt.ylabel(\"Count\")"
      ]
    },
    {
      "cell_type": "markdown",
      "metadata": {
        "id": "mkB9nhoj4Y62"
      },
      "source": [
        "Let's take a look at one of the sample example of how the data looks like"
      ]
    },
    {
      "cell_type": "code",
      "execution_count": 6,
      "metadata": {
        "colab": {
          "base_uri": "https://localhost:8080/"
        },
        "id": "oUepGyg54Y63",
        "outputId": "5c6847a1-2fab-4b55-811a-69ab7b81d080"
      },
      "outputs": [
        {
          "output_type": "stream",
          "name": "stdout",
          "text": [
            "Title: Federer joins all-time greats\n",
            "Category: sport\n"
          ]
        }
      ],
      "source": [
        "ind=1807\n",
        "print(f'Title: {df.title[ind]}')\n",
        "print(f'Category: {df.category[ind]}')"
      ]
    },
    {
      "cell_type": "markdown",
      "metadata": {
        "id": "aKKLlCrm4Y7F"
      },
      "source": [
        "---\n",
        "# Code Implementation\n",
        "---"
      ]
    },
    {
      "cell_type": "code",
      "execution_count": 7,
      "metadata": {
        "colab": {
          "base_uri": "https://localhost:8080/"
        },
        "id": "-aEWmNzs4Y7F",
        "scrolled": true,
        "outputId": "735eefa8-a204-4188-b1ee-e938b9febc57"
      },
      "outputs": [
        {
          "output_type": "stream",
          "name": "stderr",
          "text": [
            "[nltk_data] Downloading package stopwords to /root/nltk_data...\n",
            "[nltk_data]   Unzipping corpora/stopwords.zip.\n"
          ]
        }
      ],
      "source": [
        "from tensorflow.keras.preprocessing.sequence import pad_sequences\n",
        "from tensorflow.keras.layers import Dense, Embedding, Input, InputLayer, RNN, SimpleRNN, LSTM, GRU, TimeDistributed\n",
        "from tensorflow.keras.models import Model, Sequential\n",
        "from tensorflow.keras.callbacks import EarlyStopping\n",
        "from tensorflow.keras.preprocessing.text import Tokenizer\n",
        "from tensorflow.keras.preprocessing.sequence import pad_sequences\n",
        "import tensorflow as tf\n",
        "\n",
        "import string\n",
        "\n",
        "import nltk\n",
        "nltk.download('stopwords')\n",
        "\n",
        "from nltk.corpus import stopwords\n",
        "stop_words = stopwords.words('english')\n",
        "\n",
        "from sklearn.model_selection import train_test_split\n",
        "\n",
        "import matplotlib.pyplot as plt\n",
        "import seaborn as sns"
      ]
    },
    {
      "cell_type": "markdown",
      "metadata": {
        "id": "H9SiKOKy4Y7F"
      },
      "source": [
        "# Text cleaning"
      ]
    },
    {
      "cell_type": "code",
      "execution_count": 8,
      "metadata": {
        "id": "LXs9yxSE4Y7F"
      },
      "outputs": [],
      "source": [
        "def data_cleaning(text):\n",
        "    \n",
        "    # Lower the words in the sentence\n",
        "    cleaned = text.lower()\n",
        "    \n",
        "    # Replace the full stop with a full stop and space\n",
        "    cleaned = cleaned.replace(\".\", \". \")\n",
        "\n",
        "    # Remove the stop words : optional pre-processing step\n",
        "    tokens = [word for word in cleaned.split() if not word in stop_words]\n",
        "    \n",
        "    # Remove the punctuations\n",
        "    tokens = [tok.translate(str.maketrans(' ', ' ', string.punctuation)) for tok in tokens]\n",
        "    \n",
        "    # Joining the tokens back to form the sentence\n",
        "    cleaned = \" \".join(tokens)\n",
        "    \n",
        "    # Remove any extra spaces\n",
        "    cleaned = cleaned.strip()\n",
        "    \n",
        "    return cleaned\n"
      ]
    },
    {
      "cell_type": "code",
      "execution_count": 9,
      "metadata": {
        "colab": {
          "base_uri": "https://localhost:8080/"
        },
        "id": "w31lkuiT4Y7F",
        "outputId": "2b3cb65d-f2ce-44c1-eada-8adc785f32bf"
      },
      "outputs": [
        {
          "output_type": "stream",
          "name": "stderr",
          "text": [
            "100%|██████████| 2225/2225 [00:00<00:00, 7983.74it/s]\n"
          ]
        }
      ],
      "source": [
        "for index, data in tqdm(df.iterrows(), total=df.shape[0]):\n",
        "    df.loc[index, 'title'] = data_cleaning(data['title'])\n"
      ]
    },
    {
      "cell_type": "markdown",
      "metadata": {
        "id": "Pnag8IhV4Y7G"
      },
      "source": [
        "# Fixing the sequence length"
      ]
    },
    {
      "cell_type": "code",
      "execution_count": 10,
      "metadata": {
        "colab": {
          "base_uri": "https://localhost:8080/",
          "height": 447
        },
        "id": "y3hjZRTB4Y7G",
        "outputId": "1a2cc261-2371-48f9-8034-f93e62075436"
      },
      "outputs": [
        {
          "output_type": "execute_result",
          "data": {
            "text/plain": [
              "<Axes: >"
            ]
          },
          "metadata": {},
          "execution_count": 10
        },
        {
          "output_type": "display_data",
          "data": {
            "text/plain": [
              "<Figure size 640x480 with 1 Axes>"
            ],
            "image/png": "[encoded data removed]"
          },
          "metadata": {}
        }
      ],
      "source": [
        "sns.boxplot(df['title'].str.split(\" \").str.len())"
      ]
    },
    {
      "cell_type": "markdown",
      "metadata": {
        "id": "w6U9zDnM4Y7G"
      },
      "source": [
        "As we can see that maximum number of words in the title is 7, we can set the sequence length to be the max words in the longest sentence."
      ]
    },
    {
      "cell_type": "code",
      "execution_count": 11,
      "metadata": {
        "colab": {
          "base_uri": "https://localhost:8080/"
        },
        "id": "Mcn6xXa34Y7G",
        "outputId": "0686ec94-b9e5-4cd5-8333-de9179dd33a5"
      },
      "outputs": [
        {
          "output_type": "stream",
          "name": "stdout",
          "text": [
            "Maximum sequence length: 7\n",
            "Total classes: 5\n"
          ]
        }
      ],
      "source": [
        "max_sentence_len = df['title'].str.split(\" \").str.len().max()\n",
        "total_classes = df.category.nunique()\n",
        "\n",
        "print(f\"Maximum sequence length: {max_sentence_len}\")\n",
        "print(f\"Total classes: {total_classes}\")"
      ]
    },
    {
      "cell_type": "markdown",
      "metadata": {
        "id": "tbIhaR-M4Y7G"
      },
      "source": [
        "# Splitting the data to train and test"
      ]
    },
    {
      "cell_type": "code",
      "execution_count": 12,
      "metadata": {
        "id": "Jr-N1gwg4Y7G"
      },
      "outputs": [],
      "source": [
        "np.random.seed(100)\n",
        "train_X, test_X, train_Y, test_Y = train_test_split(df['title'], \n",
        "                                                    df['category'], \n",
        "                                                    test_size=0.2, \n",
        "                                                    random_state=100)\n",
        "train_X = train_X.reset_index(drop=True)\n",
        "test_X = test_X.reset_index(drop=True)\n",
        "train_Y = train_Y.reset_index(drop=True)\n",
        "train_Y = train_Y.reset_index(drop=True)"
      ]
    },
    {
      "cell_type": "code",
      "source": [
        "train_X.head()"
      ],
      "metadata": {
        "id": "Z8K226UwTsXv",
        "outputId": "f5631ed5-0053-49e3-9a5c-2df9f0835b1a",
        "colab": {
          "base_uri": "https://localhost:8080/"
        }
      },
      "execution_count": 27,
      "outputs": [
        {
          "output_type": "execute_result",
          "data": {
            "text/plain": [
              "0        moya fights back indian title\n",
              "1    radcliffe enjoys winning comeback\n",
              "2         edwards tips idowu euro gold\n",
              "3         podcasts mark rise diy radio\n",
              "4     bnp leader nick griffin arrested\n",
              "Name: title, dtype: object"
            ]
          },
          "metadata": {},
          "execution_count": 27
        }
      ]
    },
    {
      "cell_type": "code",
      "execution_count": 13,
      "metadata": {
        "colab": {
          "base_uri": "https://localhost:8080/"
        },
        "id": "BW_w5PJW4Y7H",
        "outputId": "220d60f7-147b-434a-d5d2-f4db1f3dd099"
      },
      "outputs": [
        {
          "output_type": "execute_result",
          "data": {
            "text/plain": [
              "((1780,), (1780,), (445,), (445,))"
            ]
          },
          "metadata": {},
          "execution_count": 13
        }
      ],
      "source": [
        "train_X.shape, train_Y.shape, test_X.shape, test_Y.shape"
      ]
    },
    {
      "cell_type": "markdown",
      "metadata": {
        "id": "uPQvYRF54Y7H"
      },
      "source": [
        "# One hot Encode the labels"
      ]
    },
    {
      "cell_type": "code",
      "execution_count": 14,
      "metadata": {
        "id": "g7HYEISA4Y7H"
      },
      "outputs": [],
      "source": [
        "train_Y = pd.get_dummies(train_Y).values\n",
        "test_Y = pd.get_dummies(test_Y).values"
      ]
    },
    {
      "cell_type": "code",
      "execution_count": 15,
      "metadata": {
        "id": "OaN-HAKS4Y7H"
      },
      "outputs": [],
      "source": [
        "validation = test_Y.argmax(axis=1)"
      ]
    },
    {
      "cell_type": "markdown",
      "metadata": {
        "id": "ggSxtNJK4Y7H"
      },
      "source": [
        "# Tokenize the input text and pad them"
      ]
    },
    {
      "cell_type": "code",
      "execution_count": 16,
      "metadata": {
        "colab": {
          "base_uri": "https://localhost:8080/"
        },
        "id": "hb1NQ2o84Y7H",
        "outputId": "11e88e15-850a-4967-e3b6-4157ef005fa7"
      },
      "outputs": [
        {
          "output_type": "stream",
          "name": "stdout",
          "text": [
            "Overall text vocab size 3360\n"
          ]
        }
      ],
      "source": [
        "def tokenize_and_pad(inp_text, max_len, tok):\n",
        "\n",
        "    text_seq = tok.texts_to_sequences(inp_text)\n",
        "    text_seq = pad_sequences(text_seq, maxlen=max_len, padding='post')\n",
        "    \n",
        "    return text_seq\n",
        "\n",
        "text_tok = Tokenizer()\n",
        "text_tok.fit_on_texts(train_X)\n",
        "train_text_X = tokenize_and_pad(inp_text=train_X, max_len=max_sentence_len, tok=text_tok)\n",
        "test_text_X = tokenize_and_pad(inp_text=test_X, max_len=max_sentence_len, tok=text_tok)\n",
        "vocab_size = len(text_tok.word_index)+1\n",
        "\n",
        "print(\"Overall text vocab size\", vocab_size)"
      ]
    },
    {
      "cell_type": "code",
      "source": [
        "train_X.head()"
      ],
      "metadata": {
        "id": "Y4h8RNqJUGf2",
        "outputId": "7e8ce849-b161-49e4-f86f-04c23ccd9059",
        "colab": {
          "base_uri": "https://localhost:8080/"
        }
      },
      "execution_count": 29,
      "outputs": [
        {
          "output_type": "execute_result",
          "data": {
            "text/plain": [
              "0        moya fights back indian title\n",
              "1    radcliffe enjoys winning comeback\n",
              "2         edwards tips idowu euro gold\n",
              "3         podcasts mark rise diy radio\n",
              "4     bnp leader nick griffin arrested\n",
              "Name: title, dtype: object"
            ]
          },
          "metadata": {},
          "execution_count": 29
        }
      ]
    },
    {
      "cell_type": "code",
      "source": [
        "train_text_X"
      ],
      "metadata": {
        "id": "DKnayG_EUB5K",
        "outputId": "0a3d09e4-ebae-47b8-9409-35efe58e242c",
        "colab": {
          "base_uri": "https://localhost:8080/"
        }
      },
      "execution_count": 28,
      "outputs": [
        {
          "output_type": "execute_result",
          "data": {
            "text/plain": [
              "array([[ 275,  772,   43, ...,  165,    0,    0],\n",
              "       [ 501, 1382,  502, ...,    0,    0,    0],\n",
              "       [1383,  773, 1384, ...,  366,    0,    0],\n",
              "       ...,\n",
              "       [ 645,  444,   72, ...,    0,    0,    0],\n",
              "       [  68, 1179,  487, ...,    0,    0,    0],\n",
              "       [1273, 1274, 1275, ...,    0,    0,    0]], dtype=int32)"
            ]
          },
          "metadata": {},
          "execution_count": 28
        }
      ]
    },
    {
      "cell_type": "markdown",
      "metadata": {
        "id": "NLzY_krv4Y7I"
      },
      "source": [
        "# Choose the latent dimension and embedding dimension\n",
        "\n",
        "<b>Latent dimension</b>: Dimension of the weight matrix U, V, W\n",
        "<br>\n",
        "<b>Embedding dimension</b>: Dimension of the word embeddings at the embedding layer"
      ]
    },
    {
      "cell_type": "code",
      "execution_count": 17,
      "metadata": {
        "id": "tbjTxD4X4Y7I"
      },
      "outputs": [],
      "source": [
        "latent_dim=50\n",
        "embedding_dim=100"
      ]
    },
    {
      "cell_type": "markdown",
      "metadata": {
        "id": "t_jZazaG4Y7I"
      },
      "source": [
        "# Define the RNN model architecture \n",
        "\n",
        "* The embedding layer with 100 dimension\n",
        "* A single Vanilla RNN unit with 50 dimensions\n",
        "* A final output layer with 5 units(5 classes) with the softmax activation function"
      ]
    },
    {
      "cell_type": "code",
      "execution_count": 18,
      "metadata": {
        "colab": {
          "base_uri": "https://localhost:8080/"
        },
        "id": "z88E7Q_T4Y7I",
        "outputId": "bbfdca6f-e882-4209-f20f-48f7bff2b1e0"
      },
      "outputs": [
        {
          "output_type": "stream",
          "name": "stdout",
          "text": [
            "Model: \"sequential\"\n",
            "_________________________________________________________________\n",
            " Layer (type)                Output Shape              Param #   \n",
            "=================================================================\n",
            " embedding (Embedding)       (None, None, 100)         336000    \n",
            "                                                                 \n",
            " simple_rnn (SimpleRNN)      (None, 50)                7550      \n",
            "                                                                 \n",
            " dense (Dense)               (None, 5)                 255       \n",
            "                                                                 \n",
            "=================================================================\n",
            "Total params: 343,805\n",
            "Trainable params: 343,805\n",
            "Non-trainable params: 0\n",
            "_________________________________________________________________\n"
          ]
        }
      ],
      "source": [
        "seed=56\n",
        "tf.random.set_seed(seed)\n",
        "np.random.seed(seed)\n",
        "\n",
        "model = Sequential()\n",
        "model.add(Embedding(vocab_size, embedding_dim, trainable=True))\n",
        "model.add(SimpleRNN(latent_dim, recurrent_dropout=0.2, return_sequences=False, activation='tanh'))\n",
        "model.add(Dense(total_classes, activation='softmax'))\n",
        "model.summary()"
      ]
    },
    {
      "cell_type": "markdown",
      "metadata": {
        "id": "DESByq6i4Y7I"
      },
      "source": [
        "# Model training\n",
        "\n",
        "* Optimizer: Adam\n",
        "* Loss: Categorical cross-entrophy since it is a multiclass classification probem\n",
        "* Early stopping: Used to stop training if validation accuracy does not improve while training to avoid overfitting"
      ]
    },
    {
      "cell_type": "code",
      "execution_count": 19,
      "metadata": {
        "id": "gqC9fjG64Y7I",
        "scrolled": false,
        "colab": {
          "base_uri": "https://localhost:8080/"
        },
        "outputId": "337ed64c-4c25-49e5-b1f2-d8763c836218"
      },
      "outputs": [
        {
          "output_type": "stream",
          "name": "stdout",
          "text": [
            "Epoch 1/10\n",
            "28/28 [==============================] - 2s 14ms/step - loss: 1.5813 - acc: 0.2730 - val_loss: 1.5870 - val_acc: 0.2517\n",
            "Epoch 2/10\n",
            "28/28 [==============================] - 0s 6ms/step - loss: 1.3371 - acc: 0.5320 - val_loss: 1.4611 - val_acc: 0.4022\n",
            "Epoch 3/10\n",
            "28/28 [==============================] - 0s 7ms/step - loss: 0.7078 - acc: 0.7944 - val_loss: 0.9976 - val_acc: 0.6539\n",
            "Epoch 4/10\n",
            "28/28 [==============================] - 0s 7ms/step - loss: 0.2706 - acc: 0.9376 - val_loss: 0.9204 - val_acc: 0.7213\n",
            "Epoch 5/10\n",
            "28/28 [==============================] - 0s 8ms/step - loss: 0.1132 - acc: 0.9815 - val_loss: 0.9790 - val_acc: 0.7281\n",
            "Epoch 6/10\n",
            "28/28 [==============================] - 0s 8ms/step - loss: 0.0581 - acc: 0.9933 - val_loss: 1.0282 - val_acc: 0.7348\n",
            "Epoch 7/10\n",
            "28/28 [==============================] - 0s 8ms/step - loss: 0.0341 - acc: 0.9961 - val_loss: 1.0878 - val_acc: 0.7393\n",
            "Epoch 8/10\n",
            "28/28 [==============================] - 0s 7ms/step - loss: 0.0283 - acc: 0.9961 - val_loss: 1.1332 - val_acc: 0.7348\n",
            "Epoch 9/10\n",
            "28/28 [==============================] - 0s 8ms/step - loss: 0.0169 - acc: 0.9989 - val_loss: 1.1484 - val_acc: 0.7348\n",
            "Epoch 10/10\n",
            "28/28 [==============================] - 0s 7ms/step - loss: 0.0181 - acc: 0.9978 - val_loss: 1.1814 - val_acc: 0.7438\n"
          ]
        },
        {
          "output_type": "execute_result",
          "data": {
            "text/plain": [
              "<keras.callbacks.History at 0x7fc1d90d62f0>"
            ]
          },
          "metadata": {},
          "execution_count": 19
        }
      ],
      "source": [
        "tf.random.set_seed(seed)\n",
        "np.random.seed(seed)\n",
        "\n",
        "model.compile(optimizer='Adam', loss='categorical_crossentropy', metrics=['acc'])\n",
        "\n",
        "early_stopping = EarlyStopping(monitor='val_acc', \n",
        "                               mode='max', \n",
        "                               verbose=1, \n",
        "                               patience=5)\n",
        "\n",
        "model.fit(x=train_text_X, y=train_Y, \n",
        "          validation_data=(test_text_X, test_Y),\n",
        "          batch_size=64, \n",
        "          epochs=10, \n",
        "          callbacks=[early_stopping])"
      ]
    },
    {
      "cell_type": "markdown",
      "metadata": {
        "id": "C_sxqNna4Y7I"
      },
      "source": [
        "# Save the trained model"
      ]
    },
    {
      "cell_type": "code",
      "execution_count": 20,
      "metadata": {
        "id": "V7qjMcBX4Y7I"
      },
      "outputs": [],
      "source": [
        "model.save(\"BCC_classifier.h5\")\n",
        "#model_clipping.save(\"BCC_classifier_clipping.hs\")"
      ]
    },
    {
      "cell_type": "markdown",
      "metadata": {
        "id": "MelzN42h4Y7J"
      },
      "source": [
        "# Load the saved model"
      ]
    },
    {
      "cell_type": "code",
      "execution_count": 21,
      "metadata": {
        "id": "lvMnjZKk4Y7J"
      },
      "outputs": [],
      "source": [
        "model = tf.keras.models.load_model(\"BCC_classifier.h5\")"
      ]
    },
    {
      "cell_type": "markdown",
      "metadata": {
        "id": "cb-_j3_84Y7J"
      },
      "source": [
        "# Make predictions on the test dataset"
      ]
    },
    {
      "cell_type": "code",
      "execution_count": 22,
      "metadata": {
        "id": "GxLM72VV4Y7J",
        "scrolled": true,
        "colab": {
          "base_uri": "https://localhost:8080/"
        },
        "outputId": "b5ed6275-d421-4319-dfc2-2e536292fbef"
      },
      "outputs": [
        {
          "output_type": "stream",
          "name": "stdout",
          "text": [
            "14/14 [==============================] - 0s 2ms/step\n",
            "Accuracy: 0.7438202247191011\n"
          ]
        }
      ],
      "source": [
        "prediction = model.predict(test_text_X)\n",
        "prediction = prediction.argmax(axis=1)\n",
        "print(f\"Accuracy: {accuracy_score(prediction, validation)}\")"
      ]
    },
    {
      "cell_type": "markdown",
      "metadata": {
        "id": "qW7DrR464Y7J"
      },
      "source": [
        "# Confusion matrix of the prediction and actual"
      ]
    },
    {
      "cell_type": "code",
      "execution_count": 23,
      "metadata": {
        "id": "nQgwvRGn4Y7J",
        "colab": {
          "base_uri": "https://localhost:8080/",
          "height": 489
        },
        "outputId": "63619aad-5705-4a39-a8d0-018d165cbf78"
      },
      "outputs": [
        {
          "output_type": "execute_result",
          "data": {
            "text/plain": [
              "Text(0.5, 1.0, 'Confusion Matrix')"
            ]
          },
          "metadata": {},
          "execution_count": 23
        },
        {
          "output_type": "display_data",
          "data": {
            "text/plain": [
              "<Figure size 640x480 with 2 Axes>"
            ],
            "image/png": "[encoded data removed]"
          },
          "metadata": {}
        }
      ],
      "source": [
        "cm = confusion_matrix(validation, prediction)\n",
        "\n",
        "# print(\"\")\n",
        "# plt.figure(figsize=(15,15))\n",
        "sns.heatmap(cm, annot=True, cmap='Oranges')\n",
        "plt.xlabel(\"Prediction\")\n",
        "plt.ylabel(\"Actual\")\n",
        "plt.title(\"Confusion Matrix\")"
      ]
    },
    {
      "cell_type": "markdown",
      "metadata": {
        "id": "9ezuZDC_4Y7J"
      },
      "source": [
        "# Conclusions"
      ]
    },
    {
      "cell_type": "markdown",
      "metadata": {
        "id": "aZXcJu2z4Y7K"
      },
      "source": [
        "Things to keep in mind\n",
        "* RNN takes the current input at time <b>t</b> as well as the hidden state from the previous time stamp <b>t-1</b>.\n",
        "* There are 3 weight Matrices <b>W, U, V</b> from the input, hidden state and output and <b>W, U, V, W', U', V'</b> respectively interms of bi-directional RNN\n",
        "* BiDirectional RNN process information from left to right and also from riogh\n",
        "* The same RNN unit is reused for all the input so weights are shared across all time steps.\n",
        "* The gradients are calculated over time which is called the BPPT.\n",
        "* Backpropagation through time: what it does and how to do it- https://axon.cs.byu.edu/Dan/678/papers/Recurrent/Werbos.pdf\n"
      ]
    }
  ],
  "metadata": {
    "colab": {
      "collapsed_sections": [
        "kK9_LqJC4Y65",
        "ZUnTcdgB4Y67",
        "4JMyXGsG4Y67",
        "mL8EzHFA4Y68",
        "XP3WrkES4Y6_",
        "3X75TvLg4Y6_",
        "XAozQoef4Y7C",
        "ly0J6_Va4Y7C",
        "P4gV12Tl4Y7D"
      ],
      "provenance": []
    },
    "kernelspec": {
      "display_name": "Python 3 (ipykernel)",
      "language": "python",
      "name": "python3"
    },
    "language_info": {
      "codemirror_mode": {
        "name": "ipython",
        "version": 3
      },
      "file_extension": ".py",
      "mimetype": "text/x-python",
      "name": "python",
      "nbconvert_exporter": "python",
      "pygments_lexer": "ipython3",
      "version": "3.7.6"
    }
  },
  "nbformat": 4,
  "nbformat_minor": 0
}