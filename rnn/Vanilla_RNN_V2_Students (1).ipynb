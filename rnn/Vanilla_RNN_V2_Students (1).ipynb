{
  "cells": [
    {
      "cell_type": "markdown",
      "metadata": {
        "id": "3-M3gcRWtGCK"
      },
      "source": [
        "# Content"
      ]
    },
    {
      "cell_type": "markdown",
      "metadata": {
        "id": "1svLweFFtqZ8"
      },
      "source": [
        "- **Introduction to Business Case: DL Engineer at BBC**\n",
        "- **Dataset EDA**\n",
        "  - Attribute information\n",
        "  - Category distribution plot\n",
        "- **Traditional methods : Why they won't work**\n",
        "  - MLP Classifiers : No temporal components\n",
        "- **Introduction to RNNs**\n",
        "  - Advantages\n",
        "  - RNNs unravelled over time\n",
        "  - Types of RNNs\n",
        "- **RNN Architecture**\n",
        "  - Parameters\n",
        "  - Inputs\n",
        "  - Weight matrices\n",
        "- **Training a Many to One RNN model**\n",
        "  - Forward propagation\n",
        "  - Backpropagation through time\n",
        "  - Gradient clipping\n",
        "- **Expanding training methods to other types of RNNS**\n",
        "  - Multi-output RNNs\n",
        "  - Bidirectional RNNs\n",
        "  \n",
        "- **Code Implementation**\n",
        "  - Text preprocessing\n",
        "    - Text cleaning \n",
        "    - Fixing a sequence length\n",
        "    - splitting the dataset\n",
        "  - Text processing\n",
        "    - OHE labels\n",
        "    - Tokenization & padding\n",
        "  - Training an RNN\n",
        "    - Defining RNN architecture\n",
        "    - Model training\n",
        "    - Making predictions\n",
        "    - Confusion matrix\n",
        "\n",
        "- **Conclusion**"
      ]
    },
    {
      "cell_type": "markdown",
      "metadata": {
        "id": "U-cuPc27Kjbs"
      },
      "source": [
        "# RESEARCH PAPERS\n",
        "1. [A Critical Review of Recurrent Neural Networks\n",
        "for Sequence Learning](https://arxiv.org/pdf/1506.00019.pdf)\n",
        "2. [Fundamentals of Recurrent Neural Network (RNN)\n",
        "and Long Short-Term Memory (LSTM) Network](https://arxiv.org/pdf/1808.03314.pdf)"
      ]
    },
    {
      "cell_type": "markdown",
      "metadata": {
        "id": "81kjo5oi4Y6t"
      },
      "source": [
        "# How to classify a news headline into a relevant category?\n",
        "\n",
        "`You are an DL Engineer at BBC.`"
      ]
    },
    {
      "cell_type": "markdown",
      "metadata": {
        "id": "VcTFQa7k4Y6x"
      },
      "source": [
        "**`Problem Statement`:** BBC wants to auto categorize the news into various categories which will also help in recommending the right news articles to it users at a later stage.\n",
        "\n",
        "\n",
        "`Note:` *BBC - British Broadcasting Corporation*"
      ]
    },
    {
      "cell_type": "markdown",
      "metadata": {
        "id": "K9cMib5i4Y6x"
      },
      "source": [
        "### Dataset\n",
        "\n",
        "A sample of 2225 news article and their relavant category.\n",
        "\n",
        "**Attribute information:**\n",
        "- filename - name of the file for that news.\n",
        "- title - the headline of the news\n",
        "- content - main news content.\n",
        "- **category** - target variable that describes the type of a news item.\n"
      ]
    },
    {
      "cell_type": "code",
      "execution_count": 1,
      "metadata": {
        "id": "2k-xJZXw4Y6y"
      },
      "outputs": [],
      "source": [
        "import pandas as pd\n",
        "import numpy as np\n",
        "from IPython.display import Image\n",
        "from tqdm import tqdm\n",
        "from sklearn.preprocessing import LabelEncoder\n",
        "from sklearn.metrics import confusion_matrix, accuracy_score\n",
        "import re\n",
        "import matplotlib.pyplot as plt"
      ]
    },
    {
      "cell_type": "code",
      "execution_count": 2,
      "metadata": {
        "colab": {
          "base_uri": "https://localhost:8080/"
        },
        "id": "YPCwGuqT_scd",
        "outputId": "bbf360e4-465b-4317-fb87-fe9c5bc78668"
      },
      "outputs": [
        {
          "output_type": "stream",
          "name": "stdout",
          "text": [
            "Downloading...\n",
            "From: https://drive.google.com/uc?id=1POmzYEQZgZVqJO3F_cyNcd4QmoNE_mCv\n",
            "To: /content/bbc-news-data.csv\n",
            "100% 5.08M/5.08M [00:00<00:00, 22.2MB/s]\n"
          ]
        }
      ],
      "source": [
        "!gdown 1POmzYEQZgZVqJO3F_cyNcd4QmoNE_mCv"
      ]
    },
    {
      "cell_type": "markdown",
      "metadata": {
        "id": "rfi2O3D04Y6z"
      },
      "source": [
        "---\n",
        "# Reading the dataset\n",
        "---"
      ]
    },
    {
      "cell_type": "code",
      "execution_count": 3,
      "metadata": {
        "colab": {
          "base_uri": "https://localhost:8080/",
          "height": 424
        },
        "id": "9kRl7E6F4Y60",
        "outputId": "181da361-c93e-4d98-b753-53ff1ed43a5c"
      },
      "outputs": [
        {
          "output_type": "execute_result",
          "data": {
            "text/plain": [
              "      category filename                              title  \\\n",
              "0     business  001.txt  Ad sales boost Time Warner profit   \n",
              "1     business  002.txt   Dollar gains on Greenspan speech   \n",
              "2     business  003.txt  Yukos unit buyer faces loan claim   \n",
              "3     business  004.txt  High fuel prices hit BA's profits   \n",
              "4     business  005.txt  Pernod takeover talk lifts Domecq   \n",
              "...        ...      ...                                ...   \n",
              "2220      tech  397.txt   BT program to beat dialler scams   \n",
              "2221      tech  398.txt    Spam e-mails tempt net shoppers   \n",
              "2222      tech  399.txt            Be careful how you code   \n",
              "2223      tech  400.txt    US cyber security chief resigns   \n",
              "2224      tech  401.txt   Losing yourself in online gaming   \n",
              "\n",
              "                                                content  \n",
              "0      Quarterly profits at US media giant TimeWarne...  \n",
              "1      The dollar has hit its highest level against ...  \n",
              "2      The owners of embattled Russian oil giant Yuk...  \n",
              "3      British Airways has blamed high fuel prices f...  \n",
              "4      Shares in UK drinks and food firm Allied Dome...  \n",
              "...                                                 ...  \n",
              "2220   BT is introducing two initiatives to help bea...  \n",
              "2221   Computer users across the world continue to i...  \n",
              "2222   A new European directive could put software w...  \n",
              "2223   The man making sure US computer networks are ...  \n",
              "2224   Online role playing games are time-consuming,...  \n",
              "\n",
              "[2225 rows x 4 columns]"
            ],
            "text/html": [
              "\n",
              "  <div id=\"df-5329956c-1fa1-43da-b3e3-241166e3b6fc\">\n",
              "    <div class=\"colab-df-container\">\n",
              "      <div>\n",
              "<style scoped>\n",
              "    .dataframe tbody tr th:only-of-type {\n",
              "        vertical-align: middle;\n",
              "    }\n",
              "\n",
              "    .dataframe tbody tr th {\n",
              "        vertical-align: top;\n",
              "    }\n",
              "\n",
              "    .dataframe thead th {\n",
              "        text-align: right;\n",
              "    }\n",
              "</style>\n",
              "<table border=\"1\" class=\"dataframe\">\n",
              "  <thead>\n",
              "    <tr style=\"text-align: right;\">\n",
              "      <th></th>\n",
              "      <th>category</th>\n",
              "      <th>filename</th>\n",
              "      <th>title</th>\n",
              "      <th>content</th>\n",
              "    </tr>\n",
              "  </thead>\n",
              "  <tbody>\n",
              "    <tr>\n",
              "      <th>0</th>\n",
              "      <td>business</td>\n",
              "      <td>001.txt</td>\n",
              "      <td>Ad sales boost Time Warner profit</td>\n",
              "      <td>Quarterly profits at US media giant TimeWarne...</td>\n",
              "    </tr>\n",
              "    <tr>\n",
              "      <th>1</th>\n",
              "      <td>business</td>\n",
              "      <td>002.txt</td>\n",
              "      <td>Dollar gains on Greenspan speech</td>\n",
              "      <td>The dollar has hit its highest level against ...</td>\n",
              "    </tr>\n",
              "    <tr>\n",
              "      <th>2</th>\n",
              "      <td>business</td>\n",
              "      <td>003.txt</td>\n",
              "      <td>Yukos unit buyer faces loan claim</td>\n",
              "      <td>The owners of embattled Russian oil giant Yuk...</td>\n",
              "    </tr>\n",
              "    <tr>\n",
              "      <th>3</th>\n",
              "      <td>business</td>\n",
              "      <td>004.txt</td>\n",
              "      <td>High fuel prices hit BA's profits</td>\n",
              "      <td>British Airways has blamed high fuel prices f...</td>\n",
              "    </tr>\n",
              "    <tr>\n",
              "      <th>4</th>\n",
              "      <td>business</td>\n",
              "      <td>005.txt</td>\n",
              "      <td>Pernod takeover talk lifts Domecq</td>\n",
              "      <td>Shares in UK drinks and food firm Allied Dome...</td>\n",
              "    </tr>\n",
              "    <tr>\n",
              "      <th>...</th>\n",
              "      <td>...</td>\n",
              "      <td>...</td>\n",
              "      <td>...</td>\n",
              "      <td>...</td>\n",
              "    </tr>\n",
              "    <tr>\n",
              "      <th>2220</th>\n",
              "      <td>tech</td>\n",
              "      <td>397.txt</td>\n",
              "      <td>BT program to beat dialler scams</td>\n",
              "      <td>BT is introducing two initiatives to help bea...</td>\n",
              "    </tr>\n",
              "    <tr>\n",
              "      <th>2221</th>\n",
              "      <td>tech</td>\n",
              "      <td>398.txt</td>\n",
              "      <td>Spam e-mails tempt net shoppers</td>\n",
              "      <td>Computer users across the world continue to i...</td>\n",
              "    </tr>\n",
              "    <tr>\n",
              "      <th>2222</th>\n",
              "      <td>tech</td>\n",
              "      <td>399.txt</td>\n",
              "      <td>Be careful how you code</td>\n",
              "      <td>A new European directive could put software w...</td>\n",
              "    </tr>\n",
              "    <tr>\n",
              "      <th>2223</th>\n",
              "      <td>tech</td>\n",
              "      <td>400.txt</td>\n",
              "      <td>US cyber security chief resigns</td>\n",
              "      <td>The man making sure US computer networks are ...</td>\n",
              "    </tr>\n",
              "    <tr>\n",
              "      <th>2224</th>\n",
              "      <td>tech</td>\n",
              "      <td>401.txt</td>\n",
              "      <td>Losing yourself in online gaming</td>\n",
              "      <td>Online role playing games are time-consuming,...</td>\n",
              "    </tr>\n",
              "  </tbody>\n",
              "</table>\n",
              "<p>2225 rows × 4 columns</p>\n",
              "</div>\n",
              "      <button class=\"colab-df-convert\" onclick=\"convertToInteractive('df-5329956c-1fa1-43da-b3e3-241166e3b6fc')\"\n",
              "              title=\"Convert this dataframe to an interactive table.\"\n",
              "              style=\"display:none;\">\n",
              "        \n",
              "  <svg xmlns=\"http://www.w3.org/2000/svg\" height=\"24px\"viewBox=\"0 0 24 24\"\n",
              "       width=\"24px\">\n",
              "    <path d=\"M0 0h24v24H0V0z\" fill=\"none\"/>\n",
              "    <path d=\"M18.56 5.44l.94 2.06.94-2.06 2.06-.94-2.06-.94-.94-2.06-.94 2.06-2.06.94zm-11 1L8.5 8.5l.94-2.06 2.06-.94-2.06-.94L8.5 2.5l-.94 2.06-2.06.94zm10 10l.94 2.06.94-2.06 2.06-.94-2.06-.94-.94-2.06-.94 2.06-2.06.94z\"/><path d=\"M17.41 7.96l-1.37-1.37c-.4-.4-.92-.59-1.43-.59-.52 0-1.04.2-1.43.59L10.3 9.45l-7.72 7.72c-.78.78-.78 2.05 0 2.83L4 21.41c.39.39.9.59 1.41.59.51 0 1.02-.2 1.41-.59l7.78-7.78 2.81-2.81c.8-.78.8-2.07 0-2.86zM5.41 20L4 18.59l7.72-7.72 1.47 1.35L5.41 20z\"/>\n",
              "  </svg>\n",
              "      </button>\n",
              "      \n",
              "  <style>\n",
              "    .colab-df-container {\n",
              "      display:flex;\n",
              "      flex-wrap:wrap;\n",
              "      gap: 12px;\n",
              "    }\n",
              "\n",
              "    .colab-df-convert {\n",
              "      background-color: #E8F0FE;\n",
              "      border: none;\n",
              "      border-radius: 50%;\n",
              "      cursor: pointer;\n",
              "      display: none;\n",
              "      fill: #1967D2;\n",
              "      height: 32px;\n",
              "      padding: 0 0 0 0;\n",
              "      width: 32px;\n",
              "    }\n",
              "\n",
              "    .colab-df-convert:hover {\n",
              "      background-color: #E2EBFA;\n",
              "      box-shadow: 0px 1px 2px rgba(60, 64, 67, 0.3), 0px 1px 3px 1px rgba(60, 64, 67, 0.15);\n",
              "      fill: #174EA6;\n",
              "    }\n",
              "\n",
              "    [theme=dark] .colab-df-convert {\n",
              "      background-color: #3B4455;\n",
              "      fill: #D2E3FC;\n",
              "    }\n",
              "\n",
              "    [theme=dark] .colab-df-convert:hover {\n",
              "      background-color: #434B5C;\n",
              "      box-shadow: 0px 1px 3px 1px rgba(0, 0, 0, 0.15);\n",
              "      filter: drop-shadow(0px 1px 2px rgba(0, 0, 0, 0.3));\n",
              "      fill: #FFFFFF;\n",
              "    }\n",
              "  </style>\n",
              "\n",
              "      <script>\n",
              "        const buttonEl =\n",
              "          document.querySelector('#df-5329956c-1fa1-43da-b3e3-241166e3b6fc button.colab-df-convert');\n",
              "        buttonEl.style.display =\n",
              "          google.colab.kernel.accessAllowed ? 'block' : 'none';\n",
              "\n",
              "        async function convertToInteractive(key) {\n",
              "          const element = document.querySelector('#df-5329956c-1fa1-43da-b3e3-241166e3b6fc');\n",
              "          const dataTable =\n",
              "            await google.colab.kernel.invokeFunction('convertToInteractive',\n",
              "                                                     [key], {});\n",
              "          if (!dataTable) return;\n",
              "\n",
              "          const docLinkHtml = 'Like what you see? Visit the ' +\n",
              "            '<a target=\"_blank\" href=https://colab.research.google.com/notebooks/data_table.ipynb>data table notebook</a>'\n",
              "            + ' to learn more about interactive tables.';\n",
              "          element.innerHTML = '';\n",
              "          dataTable['output_type'] = 'display_data';\n",
              "          await google.colab.output.renderOutput(dataTable, element);\n",
              "          const docLink = document.createElement('div');\n",
              "          docLink.innerHTML = docLinkHtml;\n",
              "          element.appendChild(docLink);\n",
              "        }\n",
              "      </script>\n",
              "    </div>\n",
              "  </div>\n",
              "  "
            ]
          },
          "metadata": {},
          "execution_count": 3
        }
      ],
      "source": [
        "df = pd.read_csv(\"/content/bbc-news-data.csv\", sep=\"\\t\")\n",
        "df"
      ]
    },
    {
      "cell_type": "code",
      "execution_count": 4,
      "metadata": {
        "colab": {
          "base_uri": "https://localhost:8080/",
          "height": 458
        },
        "id": "jc2Agj8d4Y61",
        "outputId": "01bb0028-84f9-4996-9acb-3efebdf9e593"
      },
      "outputs": [
        {
          "output_type": "stream",
          "name": "stdout",
          "text": [
            "(2225, 4)\n",
            "(2225, 4)\n"
          ]
        },
        {
          "output_type": "execute_result",
          "data": {
            "text/plain": [
              "      category filename                              title  \\\n",
              "0     business  001.txt  Ad sales boost Time Warner profit   \n",
              "1     business  002.txt   Dollar gains on Greenspan speech   \n",
              "2     business  003.txt  Yukos unit buyer faces loan claim   \n",
              "3     business  004.txt  High fuel prices hit BA's profits   \n",
              "4     business  005.txt  Pernod takeover talk lifts Domecq   \n",
              "...        ...      ...                                ...   \n",
              "2220      tech  397.txt   BT program to beat dialler scams   \n",
              "2221      tech  398.txt    Spam e-mails tempt net shoppers   \n",
              "2222      tech  399.txt            Be careful how you code   \n",
              "2223      tech  400.txt    US cyber security chief resigns   \n",
              "2224      tech  401.txt   Losing yourself in online gaming   \n",
              "\n",
              "                                                content  \n",
              "0      Quarterly profits at US media giant TimeWarne...  \n",
              "1      The dollar has hit its highest level against ...  \n",
              "2      The owners of embattled Russian oil giant Yuk...  \n",
              "3      British Airways has blamed high fuel prices f...  \n",
              "4      Shares in UK drinks and food firm Allied Dome...  \n",
              "...                                                 ...  \n",
              "2220   BT is introducing two initiatives to help bea...  \n",
              "2221   Computer users across the world continue to i...  \n",
              "2222   A new European directive could put software w...  \n",
              "2223   The man making sure US computer networks are ...  \n",
              "2224   Online role playing games are time-consuming,...  \n",
              "\n",
              "[2225 rows x 4 columns]"
            ],
            "text/html": [
              "\n",
              "  <div id=\"df-c803a36f-1e76-4499-bb34-a5ca97542b74\">\n",
              "    <div class=\"colab-df-container\">\n",
              "      <div>\n",
              "<style scoped>\n",
              "    .dataframe tbody tr th:only-of-type {\n",
              "        vertical-align: middle;\n",
              "    }\n",
              "\n",
              "    .dataframe tbody tr th {\n",
              "        vertical-align: top;\n",
              "    }\n",
              "\n",
              "    .dataframe thead th {\n",
              "        text-align: right;\n",
              "    }\n",
              "</style>\n",
              "<table border=\"1\" class=\"dataframe\">\n",
              "  <thead>\n",
              "    <tr style=\"text-align: right;\">\n",
              "      <th></th>\n",
              "      <th>category</th>\n",
              "      <th>filename</th>\n",
              "      <th>title</th>\n",
              "      <th>content</th>\n",
              "    </tr>\n",
              "  </thead>\n",
              "  <tbody>\n",
              "    <tr>\n",
              "      <th>0</th>\n",
              "      <td>business</td>\n",
              "      <td>001.txt</td>\n",
              "      <td>Ad sales boost Time Warner profit</td>\n",
              "      <td>Quarterly profits at US media giant TimeWarne...</td>\n",
              "    </tr>\n",
              "    <tr>\n",
              "      <th>1</th>\n",
              "      <td>business</td>\n",
              "      <td>002.txt</td>\n",
              "      <td>Dollar gains on Greenspan speech</td>\n",
              "      <td>The dollar has hit its highest level against ...</td>\n",
              "    </tr>\n",
              "    <tr>\n",
              "      <th>2</th>\n",
              "      <td>business</td>\n",
              "      <td>003.txt</td>\n",
              "      <td>Yukos unit buyer faces loan claim</td>\n",
              "      <td>The owners of embattled Russian oil giant Yuk...</td>\n",
              "    </tr>\n",
              "    <tr>\n",
              "      <th>3</th>\n",
              "      <td>business</td>\n",
              "      <td>004.txt</td>\n",
              "      <td>High fuel prices hit BA's profits</td>\n",
              "      <td>British Airways has blamed high fuel prices f...</td>\n",
              "    </tr>\n",
              "    <tr>\n",
              "      <th>4</th>\n",
              "      <td>business</td>\n",
              "      <td>005.txt</td>\n",
              "      <td>Pernod takeover talk lifts Domecq</td>\n",
              "      <td>Shares in UK drinks and food firm Allied Dome...</td>\n",
              "    </tr>\n",
              "    <tr>\n",
              "      <th>...</th>\n",
              "      <td>...</td>\n",
              "      <td>...</td>\n",
              "      <td>...</td>\n",
              "      <td>...</td>\n",
              "    </tr>\n",
              "    <tr>\n",
              "      <th>2220</th>\n",
              "      <td>tech</td>\n",
              "      <td>397.txt</td>\n",
              "      <td>BT program to beat dialler scams</td>\n",
              "      <td>BT is introducing two initiatives to help bea...</td>\n",
              "    </tr>\n",
              "    <tr>\n",
              "      <th>2221</th>\n",
              "      <td>tech</td>\n",
              "      <td>398.txt</td>\n",
              "      <td>Spam e-mails tempt net shoppers</td>\n",
              "      <td>Computer users across the world continue to i...</td>\n",
              "    </tr>\n",
              "    <tr>\n",
              "      <th>2222</th>\n",
              "      <td>tech</td>\n",
              "      <td>399.txt</td>\n",
              "      <td>Be careful how you code</td>\n",
              "      <td>A new European directive could put software w...</td>\n",
              "    </tr>\n",
              "    <tr>\n",
              "      <th>2223</th>\n",
              "      <td>tech</td>\n",
              "      <td>400.txt</td>\n",
              "      <td>US cyber security chief resigns</td>\n",
              "      <td>The man making sure US computer networks are ...</td>\n",
              "    </tr>\n",
              "    <tr>\n",
              "      <th>2224</th>\n",
              "      <td>tech</td>\n",
              "      <td>401.txt</td>\n",
              "      <td>Losing yourself in online gaming</td>\n",
              "      <td>Online role playing games are time-consuming,...</td>\n",
              "    </tr>\n",
              "  </tbody>\n",
              "</table>\n",
              "<p>2225 rows × 4 columns</p>\n",
              "</div>\n",
              "      <button class=\"colab-df-convert\" onclick=\"convertToInteractive('df-c803a36f-1e76-4499-bb34-a5ca97542b74')\"\n",
              "              title=\"Convert this dataframe to an interactive table.\"\n",
              "              style=\"display:none;\">\n",
              "        \n",
              "  <svg xmlns=\"http://www.w3.org/2000/svg\" height=\"24px\"viewBox=\"0 0 24 24\"\n",
              "       width=\"24px\">\n",
              "    <path d=\"M0 0h24v24H0V0z\" fill=\"none\"/>\n",
              "    <path d=\"M18.56 5.44l.94 2.06.94-2.06 2.06-.94-2.06-.94-.94-2.06-.94 2.06-2.06.94zm-11 1L8.5 8.5l.94-2.06 2.06-.94-2.06-.94L8.5 2.5l-.94 2.06-2.06.94zm10 10l.94 2.06.94-2.06 2.06-.94-2.06-.94-.94-2.06-.94 2.06-2.06.94z\"/><path d=\"M17.41 7.96l-1.37-1.37c-.4-.4-.92-.59-1.43-.59-.52 0-1.04.2-1.43.59L10.3 9.45l-7.72 7.72c-.78.78-.78 2.05 0 2.83L4 21.41c.39.39.9.59 1.41.59.51 0 1.02-.2 1.41-.59l7.78-7.78 2.81-2.81c.8-.78.8-2.07 0-2.86zM5.41 20L4 18.59l7.72-7.72 1.47 1.35L5.41 20z\"/>\n",
              "  </svg>\n",
              "      </button>\n",
              "      \n",
              "  <style>\n",
              "    .colab-df-container {\n",
              "      display:flex;\n",
              "      flex-wrap:wrap;\n",
              "      gap: 12px;\n",
              "    }\n",
              "\n",
              "    .colab-df-convert {\n",
              "      background-color: #E8F0FE;\n",
              "      border: none;\n",
              "      border-radius: 50%;\n",
              "      cursor: pointer;\n",
              "      display: none;\n",
              "      fill: #1967D2;\n",
              "      height: 32px;\n",
              "      padding: 0 0 0 0;\n",
              "      width: 32px;\n",
              "    }\n",
              "\n",
              "    .colab-df-convert:hover {\n",
              "      background-color: #E2EBFA;\n",
              "      box-shadow: 0px 1px 2px rgba(60, 64, 67, 0.3), 0px 1px 3px 1px rgba(60, 64, 67, 0.15);\n",
              "      fill: #174EA6;\n",
              "    }\n",
              "\n",
              "    [theme=dark] .colab-df-convert {\n",
              "      background-color: #3B4455;\n",
              "      fill: #D2E3FC;\n",
              "    }\n",
              "\n",
              "    [theme=dark] .colab-df-convert:hover {\n",
              "      background-color: #434B5C;\n",
              "      box-shadow: 0px 1px 3px 1px rgba(0, 0, 0, 0.15);\n",
              "      filter: drop-shadow(0px 1px 2px rgba(0, 0, 0, 0.3));\n",
              "      fill: #FFFFFF;\n",
              "    }\n",
              "  </style>\n",
              "\n",
              "      <script>\n",
              "        const buttonEl =\n",
              "          document.querySelector('#df-c803a36f-1e76-4499-bb34-a5ca97542b74 button.colab-df-convert');\n",
              "        buttonEl.style.display =\n",
              "          google.colab.kernel.accessAllowed ? 'block' : 'none';\n",
              "\n",
              "        async function convertToInteractive(key) {\n",
              "          const element = document.querySelector('#df-c803a36f-1e76-4499-bb34-a5ca97542b74');\n",
              "          const dataTable =\n",
              "            await google.colab.kernel.invokeFunction('convertToInteractive',\n",
              "                                                     [key], {});\n",
              "          if (!dataTable) return;\n",
              "\n",
              "          const docLinkHtml = 'Like what you see? Visit the ' +\n",
              "            '<a target=\"_blank\" href=https://colab.research.google.com/notebooks/data_table.ipynb>data table notebook</a>'\n",
              "            + ' to learn more about interactive tables.';\n",
              "          element.innerHTML = '';\n",
              "          dataTable['output_type'] = 'display_data';\n",
              "          await google.colab.output.renderOutput(dataTable, element);\n",
              "          const docLink = document.createElement('div');\n",
              "          docLink.innerHTML = docLinkHtml;\n",
              "          element.appendChild(docLink);\n",
              "        }\n",
              "      </script>\n",
              "    </div>\n",
              "  </div>\n",
              "  "
            ]
          },
          "metadata": {},
          "execution_count": 4
        }
      ],
      "source": [
        "# Dropping the empty sub-title\n",
        "print(df.shape)\n",
        "df = df[((~df.title.isnull()) & (~df.content.isnull()))].reset_index(drop=True)\n",
        "print(df.shape)\n",
        "\n",
        "df"
      ]
    },
    {
      "cell_type": "code",
      "execution_count": 5,
      "metadata": {
        "colab": {
          "base_uri": "https://localhost:8080/",
          "height": 489
        },
        "id": "mm22APQW4Y61",
        "scrolled": true,
        "outputId": "06df7b0d-2b90-4d62-9af2-1515f439672d"
      },
      "outputs": [
        {
          "output_type": "execute_result",
          "data": {
            "text/plain": [
              "Text(0, 0.5, 'Count')"
            ]
          },
          "metadata": {},
          "execution_count": 5
        },
        {
          "output_type": "display_data",
          "data": {
            "text/plain": [
              "<Figure size 640x480 with 1 Axes>"
            ],
            "image/png": "[encoded data removed]"
          },
          "metadata": {}
        }
      ],
      "source": [
        "plt.bar(df.category.value_counts().index, df.category.value_counts().values)\n",
        "plt.title('Category distribution')\n",
        "plt.xlabel(\"Category\")\n",
        "plt.ylabel(\"Count\")"
      ]
    },
    {
      "cell_type": "markdown",
      "metadata": {
        "id": "mkB9nhoj4Y62"
      },
      "source": [
        "Let's take a look at one of the sample example of how the data looks like"
      ]
    },
    {
      "cell_type": "code",
      "execution_count": 6,
      "metadata": {
        "colab": {
          "base_uri": "https://localhost:8080/"
        },
        "id": "oUepGyg54Y63",
        "outputId": "ec7a556b-8c46-4cd4-dff7-7b362ba931e0"
      },
      "outputs": [
        {
          "output_type": "stream",
          "name": "stdout",
          "text": [
            "Title: Federer joins all-time greats\n",
            "Category: sport\n"
          ]
        }
      ],
      "source": [
        "ind=1807\n",
        "print(f'Title: {df.title[ind]}')\n",
        "print(f'Category: {df.category[ind]}')"
      ]
    },
    {
      "cell_type": "markdown",
      "metadata": {
        "id": "aKKLlCrm4Y7F"
      },
      "source": [
        "---\n",
        "# Code Implementation\n",
        "---"
      ]
    },
    {
      "cell_type": "code",
      "execution_count": 7,
      "metadata": {
        "colab": {
          "base_uri": "https://localhost:8080/"
        },
        "id": "-aEWmNzs4Y7F",
        "scrolled": true,
        "outputId": "e7147fcc-993c-4468-e146-025c20c3c31f"
      },
      "outputs": [
        {
          "output_type": "stream",
          "name": "stderr",
          "text": [
            "[nltk_data] Downloading package stopwords to /root/nltk_data...\n",
            "[nltk_data]   Unzipping corpora/stopwords.zip.\n"
          ]
        }
      ],
      "source": [
        "from tensorflow.keras.preprocessing.sequence import pad_sequences\n",
        "from tensorflow.keras.layers import Dense, Embedding, Input, InputLayer, RNN, SimpleRNN, LSTM, GRU, TimeDistributed\n",
        "from tensorflow.keras.models import Model, Sequential\n",
        "from tensorflow.keras.callbacks import EarlyStopping\n",
        "from tensorflow.keras.preprocessing.text import Tokenizer\n",
        "from tensorflow.keras.preprocessing.sequence import pad_sequences\n",
        "import tensorflow as tf\n",
        "\n",
        "import string\n",
        "\n",
        "import nltk\n",
        "nltk.download('stopwords')\n",
        "\n",
        "from nltk.corpus import stopwords\n",
        "stop_words = stopwords.words('english')\n",
        "\n",
        "from sklearn.model_selection import train_test_split\n",
        "\n",
        "import matplotlib.pyplot as plt\n",
        "import seaborn as sns"
      ]
    },
    {
      "cell_type": "markdown",
      "metadata": {
        "id": "H9SiKOKy4Y7F"
      },
      "source": [
        "# Text cleaning"
      ]
    },
    {
      "cell_type": "code",
      "execution_count": 8,
      "metadata": {
        "id": "LXs9yxSE4Y7F"
      },
      "outputs": [],
      "source": [
        "def data_cleaning(text):\n",
        "    \n",
        "    # Lower the words in the sentence\n",
        "    cleaned = text.lower()\n",
        "    \n",
        "    # Replace the full stop with a full stop and space\n",
        "    cleaned = cleaned.replace(\".\", \". \")\n",
        "\n",
        "    # Remove the stop words : optional pre-processing step\n",
        "    tokens = [word for word in cleaned.split() if not word in stop_words]\n",
        "    \n",
        "    # Remove the punctuations\n",
        "    tokens = [tok.translate(str.maketrans(' ', ' ', string.punctuation)) for tok in tokens]\n",
        "    \n",
        "    # Joining the tokens back to form the sentence\n",
        "    cleaned = \" \".join(tokens)\n",
        "    \n",
        "    # Remove any extra spaces\n",
        "    cleaned = cleaned.strip()\n",
        "    \n",
        "    return cleaned\n"
      ]
    },
    {
      "cell_type": "code",
      "execution_count": 9,
      "metadata": {
        "colab": {
          "base_uri": "https://localhost:8080/"
        },
        "id": "w31lkuiT4Y7F",
        "outputId": "2f4d17bb-fef7-4332-e711-ad1210b15edc"
      },
      "outputs": [
        {
          "output_type": "stream",
          "name": "stderr",
          "text": [
            "100%|██████████| 2225/2225 [00:00<00:00, 2737.30it/s]\n"
          ]
        }
      ],
      "source": [
        "for index, data in tqdm(df.iterrows(), total=df.shape[0]):\n",
        "    df.loc[index, 'title'] = data_cleaning(data['title'])\n"
      ]
    },
    {
      "cell_type": "markdown",
      "metadata": {
        "id": "Pnag8IhV4Y7G"
      },
      "source": [
        "# Fixing the sequence length"
      ]
    },
    {
      "cell_type": "code",
      "execution_count": 10,
      "metadata": {
        "colab": {
          "base_uri": "https://localhost:8080/",
          "height": 447
        },
        "id": "y3hjZRTB4Y7G",
        "outputId": "31caca29-816d-430d-804f-2f3c547c5cc2"
      },
      "outputs": [
        {
          "output_type": "execute_result",
          "data": {
            "text/plain": [
              "<Axes: >"
            ]
          },
          "metadata": {},
          "execution_count": 10
        },
        {
          "output_type": "display_data",
          "data": {
            "text/plain": [
              "<Figure size 640x480 with 1 Axes>"
            ],
            "image/png": "[encoded data removed]"
          },
          "metadata": {}
        }
      ],
      "source": [
        "sns.boxplot(df['title'].str.split(\" \").str.len())"
      ]
    },
    {
      "cell_type": "markdown",
      "metadata": {
        "id": "w6U9zDnM4Y7G"
      },
      "source": [
        "As we can see that maximum number of words in the title is 7, we can set the sequence length to be the max words in the longest sentence."
      ]
    },
    {
      "cell_type": "code",
      "execution_count": 11,
      "metadata": {
        "colab": {
          "base_uri": "https://localhost:8080/"
        },
        "id": "Mcn6xXa34Y7G",
        "outputId": "43ba4351-d1d5-4687-f2ad-190730982f3f"
      },
      "outputs": [
        {
          "output_type": "stream",
          "name": "stdout",
          "text": [
            "Maximum sequence length: 7\n",
            "Total classes: 5\n"
          ]
        }
      ],
      "source": [
        "max_sentence_len = df['title'].str.split(\" \").str.len().max()\n",
        "total_classes = df.category.nunique()\n",
        "\n",
        "print(f\"Maximum sequence length: {max_sentence_len}\")\n",
        "print(f\"Total classes: {total_classes}\")"
      ]
    },
    {
      "cell_type": "markdown",
      "metadata": {
        "id": "tbIhaR-M4Y7G"
      },
      "source": [
        "# Splitting the data to train and test"
      ]
    },
    {
      "cell_type": "code",
      "execution_count": 12,
      "metadata": {
        "id": "Jr-N1gwg4Y7G"
      },
      "outputs": [],
      "source": [
        "np.random.seed(100)\n",
        "train_X, test_X, train_Y, test_Y = train_test_split(df['title'], \n",
        "                                                    df['category'], \n",
        "                                                    test_size=0.2, \n",
        "                                                    random_state=100)\n",
        "train_X = train_X.reset_index(drop=True)\n",
        "test_X = test_X.reset_index(drop=True)\n",
        "train_Y = train_Y.reset_index(drop=True)\n",
        "train_Y = train_Y.reset_index(drop=True)"
      ]
    },
    {
      "cell_type": "code",
      "source": [
        "train_X.head()"
      ],
      "metadata": {
        "colab": {
          "base_uri": "https://localhost:8080/"
        },
        "id": "Z8K226UwTsXv",
        "outputId": "5c0def4b-e29b-4ac0-8064-7422e0f93340"
      },
      "execution_count": 13,
      "outputs": [
        {
          "output_type": "execute_result",
          "data": {
            "text/plain": [
              "0        moya fights back indian title\n",
              "1    radcliffe enjoys winning comeback\n",
              "2         edwards tips idowu euro gold\n",
              "3         podcasts mark rise diy radio\n",
              "4     bnp leader nick griffin arrested\n",
              "Name: title, dtype: object"
            ]
          },
          "metadata": {},
          "execution_count": 13
        }
      ]
    },
    {
      "cell_type": "code",
      "execution_count": 14,
      "metadata": {
        "colab": {
          "base_uri": "https://localhost:8080/"
        },
        "id": "BW_w5PJW4Y7H",
        "outputId": "b70e5bca-ab04-42e2-f365-31e331287919"
      },
      "outputs": [
        {
          "output_type": "execute_result",
          "data": {
            "text/plain": [
              "((1780,), (1780,), (445,), (445,))"
            ]
          },
          "metadata": {},
          "execution_count": 14
        }
      ],
      "source": [
        "train_X.shape, train_Y.shape, test_X.shape, test_Y.shape"
      ]
    },
    {
      "cell_type": "markdown",
      "metadata": {
        "id": "uPQvYRF54Y7H"
      },
      "source": [
        "# One hot Encode the labels"
      ]
    },
    {
      "cell_type": "code",
      "execution_count": 15,
      "metadata": {
        "id": "g7HYEISA4Y7H"
      },
      "outputs": [],
      "source": [
        "train_Y = pd.get_dummies(train_Y).values\n",
        "test_Y = pd.get_dummies(test_Y).values"
      ]
    },
    {
      "cell_type": "code",
      "execution_count": 16,
      "metadata": {
        "id": "OaN-HAKS4Y7H"
      },
      "outputs": [],
      "source": [
        "validation = test_Y.argmax(axis=1)"
      ]
    },
    {
      "cell_type": "markdown",
      "metadata": {
        "id": "ggSxtNJK4Y7H"
      },
      "source": [
        "# Tokenize the input text and pad them"
      ]
    },
    {
      "cell_type": "code",
      "execution_count": 30,
      "metadata": {
        "colab": {
          "base_uri": "https://localhost:8080/"
        },
        "id": "hb1NQ2o84Y7H",
        "outputId": "edcd852e-4646-4178-98b8-61f239f792e4"
      },
      "outputs": [
        {
          "output_type": "stream",
          "name": "stdout",
          "text": [
            "Overall text vocab size 3360\n"
          ]
        }
      ],
      "source": [
        "def tokenize_and_pad(inp_text, max_len, tok):\n",
        "\n",
        "    text_seq = tok.texts_to_sequences(inp_text)\n",
        "    text_seq = pad_sequences(text_seq, maxlen=max_len, padding='post')\n",
        "    \n",
        "    return text_seq\n",
        "\n",
        "text_tok = Tokenizer()\n",
        "text_tok.fit_on_texts(train_X)\n",
        "train_text_X = tokenize_and_pad(inp_text=train_X, max_len=max_sentence_len, tok=text_tok)\n",
        "test_text_X = tokenize_and_pad(inp_text=test_X, max_len=max_sentence_len, tok=text_tok)\n",
        "vocab_size = len(text_tok.word_index)+1\n",
        "\n",
        "print(\"Overall text vocab size\", vocab_size)"
      ]
    },
    {
      "cell_type": "code",
      "source": [
        "train_text_X"
      ],
      "metadata": {
        "id": "q_j1AhdWghpd",
        "outputId": "2ca8dc5f-4509-4039-fde3-2eb959e3f342",
        "colab": {
          "base_uri": "https://localhost:8080/"
        }
      },
      "execution_count": 29,
      "outputs": [
        {
          "output_type": "execute_result",
          "data": {
            "text/plain": [
              "array([[   0,    0,  275, ...,   43,  164,  165],\n",
              "       [   0,    0,    0, ..., 1382,  502,  166],\n",
              "       [   0,    0, 1383, ..., 1384,   58,  366],\n",
              "       ...,\n",
              "       [   0,    0,    0, ...,  444,   72,    9],\n",
              "       [   0,    0,    0, ..., 1179,  487, 1180],\n",
              "       [   0,    0,    0, ..., 1274, 1275,  322]], dtype=int32)"
            ]
          },
          "metadata": {},
          "execution_count": 29
        }
      ]
    },
    {
      "cell_type": "code",
      "source": [
        "train_X.head()"
      ],
      "metadata": {
        "colab": {
          "base_uri": "https://localhost:8080/"
        },
        "id": "Y4h8RNqJUGf2",
        "outputId": "c551a7cb-3300-4ea7-b3c1-42242b6010e0"
      },
      "execution_count": 18,
      "outputs": [
        {
          "output_type": "execute_result",
          "data": {
            "text/plain": [
              "0        moya fights back indian title\n",
              "1    radcliffe enjoys winning comeback\n",
              "2         edwards tips idowu euro gold\n",
              "3         podcasts mark rise diy radio\n",
              "4     bnp leader nick griffin arrested\n",
              "Name: title, dtype: object"
            ]
          },
          "metadata": {},
          "execution_count": 18
        }
      ]
    },
    {
      "cell_type": "code",
      "source": [
        "train_text_X"
      ],
      "metadata": {
        "colab": {
          "base_uri": "https://localhost:8080/"
        },
        "id": "DKnayG_EUB5K",
        "outputId": "bf1f6132-5198-4d24-f39d-525fe25f287b"
      },
      "execution_count": 19,
      "outputs": [
        {
          "output_type": "execute_result",
          "data": {
            "text/plain": [
              "array([[ 275,  772,   43, ...,  165,    0,    0],\n",
              "       [ 501, 1382,  502, ...,    0,    0,    0],\n",
              "       [1383,  773, 1384, ...,  366,    0,    0],\n",
              "       ...,\n",
              "       [ 645,  444,   72, ...,    0,    0,    0],\n",
              "       [  68, 1179,  487, ...,    0,    0,    0],\n",
              "       [1273, 1274, 1275, ...,    0,    0,    0]], dtype=int32)"
            ]
          },
          "metadata": {},
          "execution_count": 19
        }
      ]
    },
    {
      "cell_type": "markdown",
      "metadata": {
        "id": "NLzY_krv4Y7I"
      },
      "source": [
        "# Choose the latent dimension and embedding dimension\n",
        "\n",
        "<b>Latent dimension</b>: Dimension of the weight matrix U, V, W\n",
        "<br>\n",
        "<b>Embedding dimension</b>: Dimension of the word embeddings at the embedding layer"
      ]
    },
    {
      "cell_type": "code",
      "execution_count": 20,
      "metadata": {
        "id": "tbjTxD4X4Y7I"
      },
      "outputs": [],
      "source": [
        "latent_dim=50\n",
        "embedding_dim=100"
      ]
    },
    {
      "cell_type": "markdown",
      "metadata": {
        "id": "t_jZazaG4Y7I"
      },
      "source": [
        "# Define the RNN model architecture \n",
        "\n",
        "* The embedding layer with 100 dimension\n",
        "* A single Vanilla RNN unit with 50 dimensions\n",
        "* A final output layer with 5 units(5 classes) with the softmax activation function"
      ]
    },
    {
      "cell_type": "code",
      "execution_count": 33,
      "metadata": {
        "colab": {
          "base_uri": "https://localhost:8080/"
        },
        "id": "z88E7Q_T4Y7I",
        "outputId": "a381b2b5-4c0d-41ef-8fc5-55647c929b36"
      },
      "outputs": [
        {
          "output_type": "stream",
          "name": "stdout",
          "text": [
            "Model: \"sequential_3\"\n",
            "_________________________________________________________________\n",
            " Layer (type)                Output Shape              Param #   \n",
            "=================================================================\n",
            " embedding_3 (Embedding)     (None, None, 100)         336000    \n",
            "                                                                 \n",
            " simple_rnn_5 (SimpleRNN)    (None, 50)                7550      \n",
            "                                                                 \n",
            " dense_2 (Dense)             (None, 5)                 255       \n",
            "                                                                 \n",
            "=================================================================\n",
            "Total params: 343,805\n",
            "Trainable params: 343,805\n",
            "Non-trainable params: 0\n",
            "_________________________________________________________________\n"
          ]
        }
      ],
      "source": [
        "seed=56\n",
        "tf.random.set_seed(seed)\n",
        "np.random.seed(seed)\n",
        "\n",
        "model = Sequential()\n",
        "model.add(Embedding(vocab_size, embedding_dim, trainable=True))\n",
        "model.add(SimpleRNN(latent_dim, recurrent_dropout=0.2, return_sequences=False, activation='tanh'))\n",
        "\n",
        "model.add(Dense(total_classes, activation='softmax'))\n",
        "model.summary()"
      ]
    },
    {
      "cell_type": "markdown",
      "metadata": {
        "id": "DESByq6i4Y7I"
      },
      "source": [
        "# Model training\n",
        "\n",
        "* Optimizer: Adam\n",
        "* Loss: Categorical cross-entrophy since it is a multiclass classification probem\n",
        "* Early stopping: Used to stop training if validation accuracy does not improve while training to avoid overfitting"
      ]
    },
    {
      "cell_type": "code",
      "execution_count": 22,
      "metadata": {
        "id": "gqC9fjG64Y7I",
        "scrolled": false,
        "colab": {
          "base_uri": "https://localhost:8080/"
        },
        "outputId": "542e8759-37c2-4551-ba26-3ee9aa6c6122"
      },
      "outputs": [
        {
          "output_type": "stream",
          "name": "stdout",
          "text": [
            "Epoch 1/10\n",
            "28/28 [==============================] - 6s 42ms/step - loss: 1.5865 - acc: 0.2742 - val_loss: 1.5531 - val_acc: 0.2674\n",
            "Epoch 2/10\n",
            "28/28 [==============================] - 1s 22ms/step - loss: 1.3310 - acc: 0.5427 - val_loss: 1.2787 - val_acc: 0.4989\n",
            "Epoch 3/10\n",
            "28/28 [==============================] - 1s 24ms/step - loss: 0.6941 - acc: 0.8197 - val_loss: 0.8098 - val_acc: 0.7146\n",
            "Epoch 4/10\n",
            "28/28 [==============================] - 1s 21ms/step - loss: 0.2443 - acc: 0.9500 - val_loss: 0.8471 - val_acc: 0.7438\n",
            "Epoch 5/10\n",
            "28/28 [==============================] - 1s 21ms/step - loss: 0.1069 - acc: 0.9860 - val_loss: 0.8948 - val_acc: 0.7461\n",
            "Epoch 6/10\n",
            "28/28 [==============================] - 1s 22ms/step - loss: 0.0683 - acc: 0.9871 - val_loss: 0.9858 - val_acc: 0.7326\n",
            "Epoch 7/10\n",
            "28/28 [==============================] - 1s 23ms/step - loss: 0.0419 - acc: 0.9944 - val_loss: 1.0410 - val_acc: 0.7348\n",
            "Epoch 8/10\n",
            "28/28 [==============================] - 1s 24ms/step - loss: 0.0297 - acc: 0.9972 - val_loss: 1.0875 - val_acc: 0.7303\n",
            "Epoch 9/10\n",
            "28/28 [==============================] - 1s 28ms/step - loss: 0.0250 - acc: 0.9983 - val_loss: 1.1541 - val_acc: 0.7348\n",
            "Epoch 10/10\n",
            "28/28 [==============================] - 1s 21ms/step - loss: 0.0177 - acc: 0.9989 - val_loss: 1.1668 - val_acc: 0.7416\n",
            "Epoch 10: early stopping\n"
          ]
        },
        {
          "output_type": "execute_result",
          "data": {
            "text/plain": [
              "<keras.callbacks.History at 0x7f942434d360>"
            ]
          },
          "metadata": {},
          "execution_count": 22
        }
      ],
      "source": [
        "tf.random.set_seed(seed)\n",
        "np.random.seed(seed)\n",
        "\n",
        "model.compile(optimizer='Adam', loss='categorical_crossentropy', metrics=['acc'])\n",
        "\n",
        "early_stopping = EarlyStopping(monitor='val_acc', \n",
        "                               mode='max', \n",
        "                               verbose=1, \n",
        "                               patience=5)\n",
        "\n",
        "model.fit(x=train_text_X, y=train_Y, \n",
        "          validation_data=(test_text_X, test_Y),\n",
        "          batch_size=64, \n",
        "          epochs=10, \n",
        "          callbacks=[early_stopping])"
      ]
    },
    {
      "cell_type": "markdown",
      "metadata": {
        "id": "C_sxqNna4Y7I"
      },
      "source": [
        "# Save the trained model"
      ]
    },
    {
      "cell_type": "code",
      "execution_count": 23,
      "metadata": {
        "id": "V7qjMcBX4Y7I"
      },
      "outputs": [],
      "source": [
        "model.save(\"BCC_classifier.h5\")\n",
        "#model_clipping.save(\"BCC_classifier_clipping.hs\")"
      ]
    },
    {
      "cell_type": "markdown",
      "metadata": {
        "id": "MelzN42h4Y7J"
      },
      "source": [
        "# Load the saved model"
      ]
    },
    {
      "cell_type": "code",
      "execution_count": 24,
      "metadata": {
        "id": "lvMnjZKk4Y7J"
      },
      "outputs": [],
      "source": [
        "model = tf.keras.models.load_model(\"BCC_classifier.h5\")"
      ]
    },
    {
      "cell_type": "markdown",
      "metadata": {
        "id": "cb-_j3_84Y7J"
      },
      "source": [
        "# Make predictions on the test dataset"
      ]
    },
    {
      "cell_type": "code",
      "execution_count": 25,
      "metadata": {
        "id": "GxLM72VV4Y7J",
        "scrolled": true,
        "colab": {
          "base_uri": "https://localhost:8080/"
        },
        "outputId": "482aed30-9015-4019-ebbd-cb7a88a58eca"
      },
      "outputs": [
        {
          "output_type": "stream",
          "name": "stdout",
          "text": [
            "14/14 [==============================] - 1s 6ms/step\n",
            "Accuracy: 0.7415730337078652\n"
          ]
        }
      ],
      "source": [
        "prediction = model.predict(test_text_X)\n",
        "prediction = prediction.argmax(axis=1)\n",
        "print(f\"Accuracy: {accuracy_score(prediction, validation)}\")"
      ]
    },
    {
      "cell_type": "markdown",
      "metadata": {
        "id": "qW7DrR464Y7J"
      },
      "source": [
        "# Confusion matrix of the prediction and actual"
      ]
    },
    {
      "cell_type": "code",
      "execution_count": 26,
      "metadata": {
        "id": "nQgwvRGn4Y7J",
        "colab": {
          "base_uri": "https://localhost:8080/",
          "height": 489
        },
        "outputId": "bf50c300-3cda-408b-bf6b-66a8ec81bce3"
      },
      "outputs": [
        {
          "output_type": "execute_result",
          "data": {
            "text/plain": [
              "Text(0.5, 1.0, 'Confusion Matrix')"
            ]
          },
          "metadata": {},
          "execution_count": 26
        },
        {
          "output_type": "display_data",
          "data": {
            "text/plain": [
              "<Figure size 640x480 with 2 Axes>"
            ],
            "image/png": "[encoded data removed]"
          },
          "metadata": {}
        }
      ],
      "source": [
        "cm = confusion_matrix(validation, prediction)\n",
        "\n",
        "# print(\"\")\n",
        "# plt.figure(figsize=(15,15))\n",
        "sns.heatmap(cm, annot=True, cmap='Oranges')\n",
        "plt.xlabel(\"Prediction\")\n",
        "plt.ylabel(\"Actual\")\n",
        "plt.title(\"Confusion Matrix\")"
      ]
    },
    {
      "cell_type": "markdown",
      "metadata": {
        "id": "9ezuZDC_4Y7J"
      },
      "source": [
        "# Conclusions"
      ]
    },
    {
      "cell_type": "markdown",
      "metadata": {
        "id": "aZXcJu2z4Y7K"
      },
      "source": [
        "Things to keep in mind\n",
        "* RNN takes the current input at time <b>t</b> as well as the hidden state from the previous time stamp <b>t-1</b>.\n",
        "* There are 3 weight Matrices <b>W, U, V</b> from the input, hidden state and output and <b>W, U, V, W', U', V'</b> respectively interms of bi-directional RNN\n",
        "* BiDirectional RNN process information from left to right and also from riogh\n",
        "* The same RNN unit is reused for all the input so weights are shared across all time steps.\n",
        "* The gradients are calculated over time which is called the BPPT.\n",
        "* Backpropagation through time: what it does and how to do it- https://axon.cs.byu.edu/Dan/678/papers/Recurrent/Werbos.pdf\n"
      ]
    }
  ],
  "metadata": {
    "colab": {
      "collapsed_sections": [
        "kK9_LqJC4Y65",
        "ZUnTcdgB4Y67",
        "4JMyXGsG4Y67",
        "mL8EzHFA4Y68",
        "XP3WrkES4Y6_",
        "3X75TvLg4Y6_",
        "XAozQoef4Y7C",
        "ly0J6_Va4Y7C",
        "P4gV12Tl4Y7D"
      ],
      "provenance": []
    },
    "kernelspec": {
      "display_name": "Python 3 (ipykernel)",
      "language": "python",
      "name": "python3"
    },
    "language_info": {
      "codemirror_mode": {
        "name": "ipython",
        "version": 3
      },
      "file_extension": ".py",
      "mimetype": "text/x-python",
      "name": "python",
      "nbconvert_exporter": "python",
      "pygments_lexer": "ipython3",
      "version": "3.7.6"
    }
  },
  "nbformat": 4,
  "nbformat_minor": 0
}